{
  "nbformat": 4,
  "nbformat_minor": 0,
  "metadata": {
    "colab": {
      "name": "203911813_314129438.ipynb",
      "provenance": [],
      "collapsed_sections": []
    },
    "kernelspec": {
      "name": "python3",
      "display_name": "Python 3"
    }
  },
  "cells": [
    {
      "cell_type": "code",
      "metadata": {
        "id": "jfdFZFvKLLz_",
        "colab_type": "code",
        "colab": {
          "base_uri": "https://localhost:8080/",
          "height": 125
        },
        "outputId": "d68b69ea-7ff2-4e93-c103-c645a078f306"
      },
      "source": [
        "from google.colab import drive\n",
        "drive.mount('/content/gdrive')"
      ],
      "execution_count": null,
      "outputs": [
        {
          "output_type": "stream",
          "text": [
            "Go to this URL in a browser: https://accounts.google.com/o/oauth2/auth?client_id=947318989803-6bn6qk8qdgf4n4g3pfee6491hc0brc4i.apps.googleusercontent.com&redirect_uri=urn%3aietf%3awg%3aoauth%3a2.0%3aoob&response_type=code&scope=email%20https%3a%2f%2fwww.googleapis.com%2fauth%2fdocs.test%20https%3a%2f%2fwww.googleapis.com%2fauth%2fdrive%20https%3a%2f%2fwww.googleapis.com%2fauth%2fdrive.photos.readonly%20https%3a%2f%2fwww.googleapis.com%2fauth%2fpeopleapi.readonly\n",
            "\n",
            "Enter your authorization code:\n",
            "··········\n",
            "Mounted at /content/gdrive\n"
          ],
          "name": "stdout"
        }
      ]
    },
    {
      "cell_type": "code",
      "metadata": {
        "id": "SjddJAHQLVqL",
        "colab_type": "code",
        "colab": {}
      },
      "source": [
        "# amit:\n",
        "dataset = '/Predict Future Sales'\n",
        "root_path = '/content/gdrive/My Drive/University/Deep Learning'\n",
        "dataset_path = root_path + dataset\n",
        "\n",
        "item_categories_csv = '/item_categories.csv'\n",
        "items_csv = '/items.csv'\n",
        "sales_train_csv = '/sales_train.csv'\n",
        "sample_submission_csv = '/sample_submission.csv'\n",
        "shops_csv = '/shops.csv'\n",
        "test_csv = '/test.csv'"
      ],
      "execution_count": null,
      "outputs": []
    },
    {
      "cell_type": "markdown",
      "metadata": {
        "id": "JWLOz_Kh1PPF",
        "colab_type": "text"
      },
      "source": [
        "###Import essential liberies "
      ]
    },
    {
      "cell_type": "code",
      "metadata": {
        "id": "NaWi6pafLvn4",
        "colab_type": "code",
        "colab": {}
      },
      "source": [
        "%matplotlib inline\n",
        "\n",
        "import pandas as pd\n",
        "import seaborn as sns\n",
        "import numpy as np\n",
        "import math\n",
        "import datetime\n",
        "\n",
        "from keras.layers import Input, Embedding, dot, add,Flatten, concatenate,Dropout, Dense, BatchNormalization\n",
        "from keras.regularizers import l2\n",
        "from keras.models import Model\n",
        "from keras.optimizers import Adam\n",
        "from sklearn.ensemble import RandomForestRegressor\n",
        "from sklearn.linear_model import LinearRegression\n",
        "from sklearn.model_selection import train_test_split\n",
        "from sklearn.linear_model import LogisticRegression\n",
        "from sklearn.metrics import accuracy_score, mean_squared_error\n",
        "from IPython.display import HTML\n",
        "from matplotlib import pyplot as plt\n",
        "from statistics import mean \n",
        "from math import sqrt"
      ],
      "execution_count": null,
      "outputs": []
    },
    {
      "cell_type": "code",
      "metadata": {
        "id": "uHjIQdVIX8i9",
        "colab_type": "code",
        "colab": {}
      },
      "source": [
        "def plot_history(history_plt):\n",
        "  plt.plot(history_plt.history['loss'])\n",
        "  plt.plot(history_plt.history['val_loss'])\n",
        "  plt.title('model loss')\n",
        "  plt.ylabel('loss')\n",
        "  plt.xlabel('epoch')\n",
        "  plt.legend(['train', 'validation'], loc='upper left')\n",
        "  plt.show()"
      ],
      "execution_count": null,
      "outputs": []
    },
    {
      "cell_type": "markdown",
      "metadata": {
        "id": "upMU_wac1jDC",
        "colab_type": "text"
      },
      "source": [
        "###Load the data from the csv files"
      ]
    },
    {
      "cell_type": "code",
      "metadata": {
        "id": "Aiaj4UHIMCWp",
        "colab_type": "code",
        "colab": {}
      },
      "source": [
        "#load train data:\n",
        "train_data = pd.read_csv(dataset_path + sales_train_csv)\n",
        "\n",
        "#load test data:\n",
        "test_data =  pd.read_csv(dataset_path + test_csv)\n",
        "\n",
        "#load items data\n",
        "items_data = pd.read_csv(dataset_path + items_csv)\n",
        "\n",
        "#load train data:\n",
        "item_categories_data = pd.read_csv(dataset_path + item_categories_csv)\n",
        "\n",
        "#load test data:\n",
        "sample_submission_data = pd.read_csv(dataset_path + sample_submission_csv)\n",
        "\n",
        "#load items data\n",
        "shops_data = pd.read_csv(dataset_path + shops_csv)"
      ],
      "execution_count": null,
      "outputs": []
    },
    {
      "cell_type": "markdown",
      "metadata": {
        "id": "9PobDhg6PJQt",
        "colab_type": "text"
      },
      "source": [
        "The shape and head of the training data"
      ]
    },
    {
      "cell_type": "code",
      "metadata": {
        "id": "ylXW09wRMEQe",
        "colab_type": "code",
        "colab": {
          "base_uri": "https://localhost:8080/",
          "height": 215
        },
        "outputId": "7ca30d68-d71b-4827-b7de-4869ea1562c9"
      },
      "source": [
        "print(train_data.shape)\n",
        "train_data.head()"
      ],
      "execution_count": null,
      "outputs": [
        {
          "output_type": "stream",
          "text": [
            "(2935849, 6)\n"
          ],
          "name": "stdout"
        },
        {
          "output_type": "execute_result",
          "data": {
            "text/html": [
              "<div>\n",
              "<style scoped>\n",
              "    .dataframe tbody tr th:only-of-type {\n",
              "        vertical-align: middle;\n",
              "    }\n",
              "\n",
              "    .dataframe tbody tr th {\n",
              "        vertical-align: top;\n",
              "    }\n",
              "\n",
              "    .dataframe thead th {\n",
              "        text-align: right;\n",
              "    }\n",
              "</style>\n",
              "<table border=\"1\" class=\"dataframe\">\n",
              "  <thead>\n",
              "    <tr style=\"text-align: right;\">\n",
              "      <th></th>\n",
              "      <th>date</th>\n",
              "      <th>date_block_num</th>\n",
              "      <th>shop_id</th>\n",
              "      <th>item_id</th>\n",
              "      <th>item_price</th>\n",
              "      <th>item_cnt_day</th>\n",
              "    </tr>\n",
              "  </thead>\n",
              "  <tbody>\n",
              "    <tr>\n",
              "      <th>0</th>\n",
              "      <td>02.01.2013</td>\n",
              "      <td>0</td>\n",
              "      <td>59</td>\n",
              "      <td>22154</td>\n",
              "      <td>999.00</td>\n",
              "      <td>1.0</td>\n",
              "    </tr>\n",
              "    <tr>\n",
              "      <th>1</th>\n",
              "      <td>03.01.2013</td>\n",
              "      <td>0</td>\n",
              "      <td>25</td>\n",
              "      <td>2552</td>\n",
              "      <td>899.00</td>\n",
              "      <td>1.0</td>\n",
              "    </tr>\n",
              "    <tr>\n",
              "      <th>2</th>\n",
              "      <td>05.01.2013</td>\n",
              "      <td>0</td>\n",
              "      <td>25</td>\n",
              "      <td>2552</td>\n",
              "      <td>899.00</td>\n",
              "      <td>-1.0</td>\n",
              "    </tr>\n",
              "    <tr>\n",
              "      <th>3</th>\n",
              "      <td>06.01.2013</td>\n",
              "      <td>0</td>\n",
              "      <td>25</td>\n",
              "      <td>2554</td>\n",
              "      <td>1709.05</td>\n",
              "      <td>1.0</td>\n",
              "    </tr>\n",
              "    <tr>\n",
              "      <th>4</th>\n",
              "      <td>15.01.2013</td>\n",
              "      <td>0</td>\n",
              "      <td>25</td>\n",
              "      <td>2555</td>\n",
              "      <td>1099.00</td>\n",
              "      <td>1.0</td>\n",
              "    </tr>\n",
              "  </tbody>\n",
              "</table>\n",
              "</div>"
            ],
            "text/plain": [
              "         date  date_block_num  shop_id  item_id  item_price  item_cnt_day\n",
              "0  02.01.2013               0       59    22154      999.00           1.0\n",
              "1  03.01.2013               0       25     2552      899.00           1.0\n",
              "2  05.01.2013               0       25     2552      899.00          -1.0\n",
              "3  06.01.2013               0       25     2554     1709.05           1.0\n",
              "4  15.01.2013               0       25     2555     1099.00           1.0"
            ]
          },
          "metadata": {
            "tags": []
          },
          "execution_count": 226
        }
      ]
    },
    {
      "cell_type": "markdown",
      "metadata": {
        "id": "01ep2mEg2Rqv",
        "colab_type": "text"
      },
      "source": [
        "The shape and head of the test data"
      ]
    },
    {
      "cell_type": "code",
      "metadata": {
        "id": "QC5C5EPMPMYs",
        "colab_type": "code",
        "colab": {
          "base_uri": "https://localhost:8080/",
          "height": 215
        },
        "outputId": "641a1ea3-ecac-4937-b617-09d490318c73"
      },
      "source": [
        "print(test_data.shape)\n",
        "test_data.head()"
      ],
      "execution_count": null,
      "outputs": [
        {
          "output_type": "stream",
          "text": [
            "(214200, 3)\n"
          ],
          "name": "stdout"
        },
        {
          "output_type": "execute_result",
          "data": {
            "text/html": [
              "<div>\n",
              "<style scoped>\n",
              "    .dataframe tbody tr th:only-of-type {\n",
              "        vertical-align: middle;\n",
              "    }\n",
              "\n",
              "    .dataframe tbody tr th {\n",
              "        vertical-align: top;\n",
              "    }\n",
              "\n",
              "    .dataframe thead th {\n",
              "        text-align: right;\n",
              "    }\n",
              "</style>\n",
              "<table border=\"1\" class=\"dataframe\">\n",
              "  <thead>\n",
              "    <tr style=\"text-align: right;\">\n",
              "      <th></th>\n",
              "      <th>ID</th>\n",
              "      <th>shop_id</th>\n",
              "      <th>item_id</th>\n",
              "    </tr>\n",
              "  </thead>\n",
              "  <tbody>\n",
              "    <tr>\n",
              "      <th>0</th>\n",
              "      <td>0</td>\n",
              "      <td>5</td>\n",
              "      <td>5037</td>\n",
              "    </tr>\n",
              "    <tr>\n",
              "      <th>1</th>\n",
              "      <td>1</td>\n",
              "      <td>5</td>\n",
              "      <td>5320</td>\n",
              "    </tr>\n",
              "    <tr>\n",
              "      <th>2</th>\n",
              "      <td>2</td>\n",
              "      <td>5</td>\n",
              "      <td>5233</td>\n",
              "    </tr>\n",
              "    <tr>\n",
              "      <th>3</th>\n",
              "      <td>3</td>\n",
              "      <td>5</td>\n",
              "      <td>5232</td>\n",
              "    </tr>\n",
              "    <tr>\n",
              "      <th>4</th>\n",
              "      <td>4</td>\n",
              "      <td>5</td>\n",
              "      <td>5268</td>\n",
              "    </tr>\n",
              "  </tbody>\n",
              "</table>\n",
              "</div>"
            ],
            "text/plain": [
              "   ID  shop_id  item_id\n",
              "0   0        5     5037\n",
              "1   1        5     5320\n",
              "2   2        5     5233\n",
              "3   3        5     5232\n",
              "4   4        5     5268"
            ]
          },
          "metadata": {
            "tags": []
          },
          "execution_count": 227
        }
      ]
    },
    {
      "cell_type": "markdown",
      "metadata": {
        "id": "CIilIe5LPhL8",
        "colab_type": "text"
      },
      "source": [
        "###**3.b-c Preprocessing and Use a classical ML algorithm**:\n",
        "1. We will discard all rows that has value (-1) in '*item_cnt_day*' column.\n",
        "2. In the train dataset we have some items and shops that not contained in the test dataset. thus, we will clear all rows in the train dataset that contains those shops and items. By doing that, we're preventing from our model to be overfitted to his data.\n",
        "3. Change the date representation in the training dataset to seprated columns of '*month*' and '*year*'. those columns will serve us later as embedded features.\n",
        "4. Add '*month*' = 11 and '*year*' = 2015 columns. This will be the month we want to predict.\n",
        "5. We will group by '*month*' and '*year*' the items training sales data.\n",
        "6. From exploring the data so far, we can see that approximatly we 5500 record of items that was selled by store in amount of more than 20 units. however, we have 665816 records in total. According to this distinction, we would like to make a clip for the values of the quantity of units sold of any product in a particular month to a range of 0-20\n",
        "7. Dividing the training set to 80% training and 20% validation"
      ]
    },
    {
      "cell_type": "code",
      "metadata": {
        "id": "3vwCR13qPUmG",
        "colab_type": "code",
        "colab": {
          "base_uri": "https://localhost:8080/",
          "height": 477
        },
        "outputId": "c5f26b34-5929-43c3-fd7e-ce60af4e960a"
      },
      "source": [
        "#1. We will discard all rows that has value (-1) in 'item_cnt_day' column.\n",
        "train_data_fix = train_data.drop(train_data[train_data.item_cnt_day == -1.0].index)\n",
        "\n",
        "#2. In the train dataset we have some items and shops that not contained in the \n",
        "#   test dataset. thus, we will clear all rows in the train dataset that contains \n",
        "#   those shops and items. By doing that, we're preventing from our model to be \n",
        "#   overfitted to his data.\n",
        "shops = test_data['shop_id'].unique()\n",
        "items = test_data['item_id'].unique()\n",
        "\n",
        "train_data_fix = train_data_fix[train_data['shop_id'].isin(shops)]\n",
        "train_data_fix = train_data_fix[train_data['item_id'].isin(items)]\n",
        "train_data_fix"
      ],
      "execution_count": null,
      "outputs": [
        {
          "output_type": "stream",
          "text": [
            "/usr/local/lib/python3.6/dist-packages/ipykernel_launcher.py:11: UserWarning: Boolean Series key will be reindexed to match DataFrame index.\n",
            "  # This is added back by InteractiveShellApp.init_path()\n",
            "/usr/local/lib/python3.6/dist-packages/ipykernel_launcher.py:12: UserWarning: Boolean Series key will be reindexed to match DataFrame index.\n",
            "  if sys.path[0] == '':\n"
          ],
          "name": "stderr"
        },
        {
          "output_type": "execute_result",
          "data": {
            "text/html": [
              "<div>\n",
              "<style scoped>\n",
              "    .dataframe tbody tr th:only-of-type {\n",
              "        vertical-align: middle;\n",
              "    }\n",
              "\n",
              "    .dataframe tbody tr th {\n",
              "        vertical-align: top;\n",
              "    }\n",
              "\n",
              "    .dataframe thead th {\n",
              "        text-align: right;\n",
              "    }\n",
              "</style>\n",
              "<table border=\"1\" class=\"dataframe\">\n",
              "  <thead>\n",
              "    <tr style=\"text-align: right;\">\n",
              "      <th></th>\n",
              "      <th>date</th>\n",
              "      <th>date_block_num</th>\n",
              "      <th>shop_id</th>\n",
              "      <th>item_id</th>\n",
              "      <th>item_price</th>\n",
              "      <th>item_cnt_day</th>\n",
              "    </tr>\n",
              "  </thead>\n",
              "  <tbody>\n",
              "    <tr>\n",
              "      <th>0</th>\n",
              "      <td>02.01.2013</td>\n",
              "      <td>0</td>\n",
              "      <td>59</td>\n",
              "      <td>22154</td>\n",
              "      <td>999.0</td>\n",
              "      <td>1.0</td>\n",
              "    </tr>\n",
              "    <tr>\n",
              "      <th>10</th>\n",
              "      <td>03.01.2013</td>\n",
              "      <td>0</td>\n",
              "      <td>25</td>\n",
              "      <td>2574</td>\n",
              "      <td>399.0</td>\n",
              "      <td>2.0</td>\n",
              "    </tr>\n",
              "    <tr>\n",
              "      <th>11</th>\n",
              "      <td>05.01.2013</td>\n",
              "      <td>0</td>\n",
              "      <td>25</td>\n",
              "      <td>2574</td>\n",
              "      <td>399.0</td>\n",
              "      <td>1.0</td>\n",
              "    </tr>\n",
              "    <tr>\n",
              "      <th>12</th>\n",
              "      <td>07.01.2013</td>\n",
              "      <td>0</td>\n",
              "      <td>25</td>\n",
              "      <td>2574</td>\n",
              "      <td>399.0</td>\n",
              "      <td>1.0</td>\n",
              "    </tr>\n",
              "    <tr>\n",
              "      <th>13</th>\n",
              "      <td>08.01.2013</td>\n",
              "      <td>0</td>\n",
              "      <td>25</td>\n",
              "      <td>2574</td>\n",
              "      <td>399.0</td>\n",
              "      <td>2.0</td>\n",
              "    </tr>\n",
              "    <tr>\n",
              "      <th>...</th>\n",
              "      <td>...</td>\n",
              "      <td>...</td>\n",
              "      <td>...</td>\n",
              "      <td>...</td>\n",
              "      <td>...</td>\n",
              "      <td>...</td>\n",
              "    </tr>\n",
              "    <tr>\n",
              "      <th>2935844</th>\n",
              "      <td>10.10.2015</td>\n",
              "      <td>33</td>\n",
              "      <td>25</td>\n",
              "      <td>7409</td>\n",
              "      <td>299.0</td>\n",
              "      <td>1.0</td>\n",
              "    </tr>\n",
              "    <tr>\n",
              "      <th>2935845</th>\n",
              "      <td>09.10.2015</td>\n",
              "      <td>33</td>\n",
              "      <td>25</td>\n",
              "      <td>7460</td>\n",
              "      <td>299.0</td>\n",
              "      <td>1.0</td>\n",
              "    </tr>\n",
              "    <tr>\n",
              "      <th>2935846</th>\n",
              "      <td>14.10.2015</td>\n",
              "      <td>33</td>\n",
              "      <td>25</td>\n",
              "      <td>7459</td>\n",
              "      <td>349.0</td>\n",
              "      <td>1.0</td>\n",
              "    </tr>\n",
              "    <tr>\n",
              "      <th>2935847</th>\n",
              "      <td>22.10.2015</td>\n",
              "      <td>33</td>\n",
              "      <td>25</td>\n",
              "      <td>7440</td>\n",
              "      <td>299.0</td>\n",
              "      <td>1.0</td>\n",
              "    </tr>\n",
              "    <tr>\n",
              "      <th>2935848</th>\n",
              "      <td>03.10.2015</td>\n",
              "      <td>33</td>\n",
              "      <td>25</td>\n",
              "      <td>7460</td>\n",
              "      <td>299.0</td>\n",
              "      <td>1.0</td>\n",
              "    </tr>\n",
              "  </tbody>\n",
              "</table>\n",
              "<p>1221546 rows × 6 columns</p>\n",
              "</div>"
            ],
            "text/plain": [
              "               date  date_block_num  shop_id  item_id  item_price  item_cnt_day\n",
              "0        02.01.2013               0       59    22154       999.0           1.0\n",
              "10       03.01.2013               0       25     2574       399.0           2.0\n",
              "11       05.01.2013               0       25     2574       399.0           1.0\n",
              "12       07.01.2013               0       25     2574       399.0           1.0\n",
              "13       08.01.2013               0       25     2574       399.0           2.0\n",
              "...             ...             ...      ...      ...         ...           ...\n",
              "2935844  10.10.2015              33       25     7409       299.0           1.0\n",
              "2935845  09.10.2015              33       25     7460       299.0           1.0\n",
              "2935846  14.10.2015              33       25     7459       349.0           1.0\n",
              "2935847  22.10.2015              33       25     7440       299.0           1.0\n",
              "2935848  03.10.2015              33       25     7460       299.0           1.0\n",
              "\n",
              "[1221546 rows x 6 columns]"
            ]
          },
          "metadata": {
            "tags": []
          },
          "execution_count": 228
        }
      ]
    },
    {
      "cell_type": "markdown",
      "metadata": {
        "id": "HQsF04ZeRigr",
        "colab_type": "text"
      },
      "source": [
        "The new shape of the train dataset will be:"
      ]
    },
    {
      "cell_type": "code",
      "metadata": {
        "id": "29AJ-PCRRZWx",
        "colab_type": "code",
        "colab": {
          "base_uri": "https://localhost:8080/",
          "height": 34
        },
        "outputId": "08a958f1-6740-4960-d8fa-5a9e7bc54b91"
      },
      "source": [
        "train_data_fix.shape"
      ],
      "execution_count": null,
      "outputs": [
        {
          "output_type": "execute_result",
          "data": {
            "text/plain": [
              "(1221546, 6)"
            ]
          },
          "metadata": {
            "tags": []
          },
          "execution_count": 229
        }
      ]
    },
    {
      "cell_type": "code",
      "metadata": {
        "id": "hgqw9EfzTq9F",
        "colab_type": "code",
        "colab": {
          "base_uri": "https://localhost:8080/",
          "height": 197
        },
        "outputId": "1a79a71b-afc9-4309-b447-3ee70f988427"
      },
      "source": [
        "train_data_fix.head()"
      ],
      "execution_count": null,
      "outputs": [
        {
          "output_type": "execute_result",
          "data": {
            "text/html": [
              "<div>\n",
              "<style scoped>\n",
              "    .dataframe tbody tr th:only-of-type {\n",
              "        vertical-align: middle;\n",
              "    }\n",
              "\n",
              "    .dataframe tbody tr th {\n",
              "        vertical-align: top;\n",
              "    }\n",
              "\n",
              "    .dataframe thead th {\n",
              "        text-align: right;\n",
              "    }\n",
              "</style>\n",
              "<table border=\"1\" class=\"dataframe\">\n",
              "  <thead>\n",
              "    <tr style=\"text-align: right;\">\n",
              "      <th></th>\n",
              "      <th>date</th>\n",
              "      <th>date_block_num</th>\n",
              "      <th>shop_id</th>\n",
              "      <th>item_id</th>\n",
              "      <th>item_price</th>\n",
              "      <th>item_cnt_day</th>\n",
              "    </tr>\n",
              "  </thead>\n",
              "  <tbody>\n",
              "    <tr>\n",
              "      <th>0</th>\n",
              "      <td>02.01.2013</td>\n",
              "      <td>0</td>\n",
              "      <td>59</td>\n",
              "      <td>22154</td>\n",
              "      <td>999.0</td>\n",
              "      <td>1.0</td>\n",
              "    </tr>\n",
              "    <tr>\n",
              "      <th>10</th>\n",
              "      <td>03.01.2013</td>\n",
              "      <td>0</td>\n",
              "      <td>25</td>\n",
              "      <td>2574</td>\n",
              "      <td>399.0</td>\n",
              "      <td>2.0</td>\n",
              "    </tr>\n",
              "    <tr>\n",
              "      <th>11</th>\n",
              "      <td>05.01.2013</td>\n",
              "      <td>0</td>\n",
              "      <td>25</td>\n",
              "      <td>2574</td>\n",
              "      <td>399.0</td>\n",
              "      <td>1.0</td>\n",
              "    </tr>\n",
              "    <tr>\n",
              "      <th>12</th>\n",
              "      <td>07.01.2013</td>\n",
              "      <td>0</td>\n",
              "      <td>25</td>\n",
              "      <td>2574</td>\n",
              "      <td>399.0</td>\n",
              "      <td>1.0</td>\n",
              "    </tr>\n",
              "    <tr>\n",
              "      <th>13</th>\n",
              "      <td>08.01.2013</td>\n",
              "      <td>0</td>\n",
              "      <td>25</td>\n",
              "      <td>2574</td>\n",
              "      <td>399.0</td>\n",
              "      <td>2.0</td>\n",
              "    </tr>\n",
              "  </tbody>\n",
              "</table>\n",
              "</div>"
            ],
            "text/plain": [
              "          date  date_block_num  shop_id  item_id  item_price  item_cnt_day\n",
              "0   02.01.2013               0       59    22154       999.0           1.0\n",
              "10  03.01.2013               0       25     2574       399.0           2.0\n",
              "11  05.01.2013               0       25     2574       399.0           1.0\n",
              "12  07.01.2013               0       25     2574       399.0           1.0\n",
              "13  08.01.2013               0       25     2574       399.0           2.0"
            ]
          },
          "metadata": {
            "tags": []
          },
          "execution_count": 230
        }
      ]
    },
    {
      "cell_type": "code",
      "metadata": {
        "id": "yMOlEenpR2_y",
        "colab_type": "code",
        "colab": {
          "base_uri": "https://localhost:8080/",
          "height": 197
        },
        "outputId": "87f31a81-90ad-40c3-85a3-bf7be8d387d9"
      },
      "source": [
        "#3. Change the date representation in the training dataset to seprated columns of 'month' and 'year'. those columns will serve us later as embedded features.\n",
        "train_data_fix['date'] = pd.to_datetime(train_data_fix['date'], format='%d.%m.%Y')\n",
        "train_data_fix['month'] = train_data_fix['date'].dt.month\n",
        "train_data_fix['year'] = train_data_fix['date'].dt.year\n",
        "train_data_fix = train_data_fix.drop(['date'], axis=1)\n",
        "train_data_fix.head()"
      ],
      "execution_count": null,
      "outputs": [
        {
          "output_type": "execute_result",
          "data": {
            "text/html": [
              "<div>\n",
              "<style scoped>\n",
              "    .dataframe tbody tr th:only-of-type {\n",
              "        vertical-align: middle;\n",
              "    }\n",
              "\n",
              "    .dataframe tbody tr th {\n",
              "        vertical-align: top;\n",
              "    }\n",
              "\n",
              "    .dataframe thead th {\n",
              "        text-align: right;\n",
              "    }\n",
              "</style>\n",
              "<table border=\"1\" class=\"dataframe\">\n",
              "  <thead>\n",
              "    <tr style=\"text-align: right;\">\n",
              "      <th></th>\n",
              "      <th>date_block_num</th>\n",
              "      <th>shop_id</th>\n",
              "      <th>item_id</th>\n",
              "      <th>item_price</th>\n",
              "      <th>item_cnt_day</th>\n",
              "      <th>month</th>\n",
              "      <th>year</th>\n",
              "    </tr>\n",
              "  </thead>\n",
              "  <tbody>\n",
              "    <tr>\n",
              "      <th>0</th>\n",
              "      <td>0</td>\n",
              "      <td>59</td>\n",
              "      <td>22154</td>\n",
              "      <td>999.0</td>\n",
              "      <td>1.0</td>\n",
              "      <td>1</td>\n",
              "      <td>2013</td>\n",
              "    </tr>\n",
              "    <tr>\n",
              "      <th>10</th>\n",
              "      <td>0</td>\n",
              "      <td>25</td>\n",
              "      <td>2574</td>\n",
              "      <td>399.0</td>\n",
              "      <td>2.0</td>\n",
              "      <td>1</td>\n",
              "      <td>2013</td>\n",
              "    </tr>\n",
              "    <tr>\n",
              "      <th>11</th>\n",
              "      <td>0</td>\n",
              "      <td>25</td>\n",
              "      <td>2574</td>\n",
              "      <td>399.0</td>\n",
              "      <td>1.0</td>\n",
              "      <td>1</td>\n",
              "      <td>2013</td>\n",
              "    </tr>\n",
              "    <tr>\n",
              "      <th>12</th>\n",
              "      <td>0</td>\n",
              "      <td>25</td>\n",
              "      <td>2574</td>\n",
              "      <td>399.0</td>\n",
              "      <td>1.0</td>\n",
              "      <td>1</td>\n",
              "      <td>2013</td>\n",
              "    </tr>\n",
              "    <tr>\n",
              "      <th>13</th>\n",
              "      <td>0</td>\n",
              "      <td>25</td>\n",
              "      <td>2574</td>\n",
              "      <td>399.0</td>\n",
              "      <td>2.0</td>\n",
              "      <td>1</td>\n",
              "      <td>2013</td>\n",
              "    </tr>\n",
              "  </tbody>\n",
              "</table>\n",
              "</div>"
            ],
            "text/plain": [
              "    date_block_num  shop_id  item_id  item_price  item_cnt_day  month  year\n",
              "0                0       59    22154       999.0           1.0      1  2013\n",
              "10               0       25     2574       399.0           2.0      1  2013\n",
              "11               0       25     2574       399.0           1.0      1  2013\n",
              "12               0       25     2574       399.0           1.0      1  2013\n",
              "13               0       25     2574       399.0           2.0      1  2013"
            ]
          },
          "metadata": {
            "tags": []
          },
          "execution_count": 231
        }
      ]
    },
    {
      "cell_type": "code",
      "metadata": {
        "id": "3ArvsAX7TQ3N",
        "colab_type": "code",
        "colab": {
          "base_uri": "https://localhost:8080/",
          "height": 197
        },
        "outputId": "23687bc3-5e4c-47bc-d8ac-1d75ef90c8d8"
      },
      "source": [
        "#4. Add 'month' = 11 and 'year' = 2015 columns. \n",
        "#   This month will be the month we want to predict it's results.\n",
        "test_data_fix = test_data\n",
        "test_data_fix['month'] = 11\n",
        "test_data_fix['year'] = 2015\n",
        "test_data_fix = test_data_fix[['shop_id', 'item_id', 'month', 'year']]\n",
        "test_data_fix.head()"
      ],
      "execution_count": null,
      "outputs": [
        {
          "output_type": "execute_result",
          "data": {
            "text/html": [
              "<div>\n",
              "<style scoped>\n",
              "    .dataframe tbody tr th:only-of-type {\n",
              "        vertical-align: middle;\n",
              "    }\n",
              "\n",
              "    .dataframe tbody tr th {\n",
              "        vertical-align: top;\n",
              "    }\n",
              "\n",
              "    .dataframe thead th {\n",
              "        text-align: right;\n",
              "    }\n",
              "</style>\n",
              "<table border=\"1\" class=\"dataframe\">\n",
              "  <thead>\n",
              "    <tr style=\"text-align: right;\">\n",
              "      <th></th>\n",
              "      <th>shop_id</th>\n",
              "      <th>item_id</th>\n",
              "      <th>month</th>\n",
              "      <th>year</th>\n",
              "    </tr>\n",
              "  </thead>\n",
              "  <tbody>\n",
              "    <tr>\n",
              "      <th>0</th>\n",
              "      <td>5</td>\n",
              "      <td>5037</td>\n",
              "      <td>11</td>\n",
              "      <td>2015</td>\n",
              "    </tr>\n",
              "    <tr>\n",
              "      <th>1</th>\n",
              "      <td>5</td>\n",
              "      <td>5320</td>\n",
              "      <td>11</td>\n",
              "      <td>2015</td>\n",
              "    </tr>\n",
              "    <tr>\n",
              "      <th>2</th>\n",
              "      <td>5</td>\n",
              "      <td>5233</td>\n",
              "      <td>11</td>\n",
              "      <td>2015</td>\n",
              "    </tr>\n",
              "    <tr>\n",
              "      <th>3</th>\n",
              "      <td>5</td>\n",
              "      <td>5232</td>\n",
              "      <td>11</td>\n",
              "      <td>2015</td>\n",
              "    </tr>\n",
              "    <tr>\n",
              "      <th>4</th>\n",
              "      <td>5</td>\n",
              "      <td>5268</td>\n",
              "      <td>11</td>\n",
              "      <td>2015</td>\n",
              "    </tr>\n",
              "  </tbody>\n",
              "</table>\n",
              "</div>"
            ],
            "text/plain": [
              "   shop_id  item_id  month  year\n",
              "0        5     5037     11  2015\n",
              "1        5     5320     11  2015\n",
              "2        5     5233     11  2015\n",
              "3        5     5232     11  2015\n",
              "4        5     5268     11  2015"
            ]
          },
          "metadata": {
            "tags": []
          },
          "execution_count": 232
        }
      ]
    },
    {
      "cell_type": "code",
      "metadata": {
        "id": "sw_DWqdhdT0p",
        "colab_type": "code",
        "colab": {
          "base_uri": "https://localhost:8080/",
          "height": 406
        },
        "outputId": "fe265ea9-c32e-4597-c29d-a6e7c12b2394"
      },
      "source": [
        "#5. We will group by 'shop_id', 'item_id', 'item_price','month', 'year' the items training sales data.\n",
        "#   We will also change the name of item_cnt_day to the new more-suitable name: 'item_cnt_month'\n",
        "train_data_fix = train_data_fix.groupby(['shop_id', 'item_id', 'item_price','month', 'year'])['item_cnt_day'].sum().reset_index()\n",
        "train_data_fix.rename(columns={'item_cnt_day': 'item_cnt_month'}, inplace=True)\n",
        "train_data_fix"
      ],
      "execution_count": null,
      "outputs": [
        {
          "output_type": "execute_result",
          "data": {
            "text/html": [
              "<div>\n",
              "<style scoped>\n",
              "    .dataframe tbody tr th:only-of-type {\n",
              "        vertical-align: middle;\n",
              "    }\n",
              "\n",
              "    .dataframe tbody tr th {\n",
              "        vertical-align: top;\n",
              "    }\n",
              "\n",
              "    .dataframe thead th {\n",
              "        text-align: right;\n",
              "    }\n",
              "</style>\n",
              "<table border=\"1\" class=\"dataframe\">\n",
              "  <thead>\n",
              "    <tr style=\"text-align: right;\">\n",
              "      <th></th>\n",
              "      <th>shop_id</th>\n",
              "      <th>item_id</th>\n",
              "      <th>item_price</th>\n",
              "      <th>month</th>\n",
              "      <th>year</th>\n",
              "      <th>item_cnt_month</th>\n",
              "    </tr>\n",
              "  </thead>\n",
              "  <tbody>\n",
              "    <tr>\n",
              "      <th>0</th>\n",
              "      <td>2</td>\n",
              "      <td>30</td>\n",
              "      <td>169.0</td>\n",
              "      <td>4</td>\n",
              "      <td>2014</td>\n",
              "      <td>1.0</td>\n",
              "    </tr>\n",
              "    <tr>\n",
              "      <th>1</th>\n",
              "      <td>2</td>\n",
              "      <td>30</td>\n",
              "      <td>169.0</td>\n",
              "      <td>5</td>\n",
              "      <td>2014</td>\n",
              "      <td>1.0</td>\n",
              "    </tr>\n",
              "    <tr>\n",
              "      <th>2</th>\n",
              "      <td>2</td>\n",
              "      <td>30</td>\n",
              "      <td>359.0</td>\n",
              "      <td>3</td>\n",
              "      <td>2013</td>\n",
              "      <td>1.0</td>\n",
              "    </tr>\n",
              "    <tr>\n",
              "      <th>3</th>\n",
              "      <td>2</td>\n",
              "      <td>30</td>\n",
              "      <td>399.0</td>\n",
              "      <td>6</td>\n",
              "      <td>2013</td>\n",
              "      <td>1.0</td>\n",
              "    </tr>\n",
              "    <tr>\n",
              "      <th>4</th>\n",
              "      <td>2</td>\n",
              "      <td>31</td>\n",
              "      <td>399.0</td>\n",
              "      <td>10</td>\n",
              "      <td>2015</td>\n",
              "      <td>1.0</td>\n",
              "    </tr>\n",
              "    <tr>\n",
              "      <th>...</th>\n",
              "      <td>...</td>\n",
              "      <td>...</td>\n",
              "      <td>...</td>\n",
              "      <td>...</td>\n",
              "      <td>...</td>\n",
              "      <td>...</td>\n",
              "    </tr>\n",
              "    <tr>\n",
              "      <th>665811</th>\n",
              "      <td>59</td>\n",
              "      <td>22164</td>\n",
              "      <td>749.0</td>\n",
              "      <td>2</td>\n",
              "      <td>2015</td>\n",
              "      <td>2.0</td>\n",
              "    </tr>\n",
              "    <tr>\n",
              "      <th>665812</th>\n",
              "      <td>59</td>\n",
              "      <td>22164</td>\n",
              "      <td>749.0</td>\n",
              "      <td>3</td>\n",
              "      <td>2015</td>\n",
              "      <td>1.0</td>\n",
              "    </tr>\n",
              "    <tr>\n",
              "      <th>665813</th>\n",
              "      <td>59</td>\n",
              "      <td>22167</td>\n",
              "      <td>299.0</td>\n",
              "      <td>6</td>\n",
              "      <td>2014</td>\n",
              "      <td>1.0</td>\n",
              "    </tr>\n",
              "    <tr>\n",
              "      <th>665814</th>\n",
              "      <td>59</td>\n",
              "      <td>22167</td>\n",
              "      <td>299.0</td>\n",
              "      <td>10</td>\n",
              "      <td>2013</td>\n",
              "      <td>1.0</td>\n",
              "    </tr>\n",
              "    <tr>\n",
              "      <th>665815</th>\n",
              "      <td>59</td>\n",
              "      <td>22167</td>\n",
              "      <td>299.0</td>\n",
              "      <td>12</td>\n",
              "      <td>2013</td>\n",
              "      <td>2.0</td>\n",
              "    </tr>\n",
              "  </tbody>\n",
              "</table>\n",
              "<p>665816 rows × 6 columns</p>\n",
              "</div>"
            ],
            "text/plain": [
              "        shop_id  item_id  item_price  month  year  item_cnt_month\n",
              "0             2       30       169.0      4  2014             1.0\n",
              "1             2       30       169.0      5  2014             1.0\n",
              "2             2       30       359.0      3  2013             1.0\n",
              "3             2       30       399.0      6  2013             1.0\n",
              "4             2       31       399.0     10  2015             1.0\n",
              "...         ...      ...         ...    ...   ...             ...\n",
              "665811       59    22164       749.0      2  2015             2.0\n",
              "665812       59    22164       749.0      3  2015             1.0\n",
              "665813       59    22167       299.0      6  2014             1.0\n",
              "665814       59    22167       299.0     10  2013             1.0\n",
              "665815       59    22167       299.0     12  2013             2.0\n",
              "\n",
              "[665816 rows x 6 columns]"
            ]
          },
          "metadata": {
            "tags": []
          },
          "execution_count": 233
        }
      ]
    },
    {
      "cell_type": "markdown",
      "metadata": {
        "id": "g3wehLiO4BGC",
        "colab_type": "text"
      },
      "source": [
        "**Visualization**:\n",
        "\n",
        "We will now introduce a number of visual aids to help us get some sense of the unit numbers sold in stores as well as the unit numbers sold by month."
      ]
    },
    {
      "cell_type": "code",
      "metadata": {
        "id": "uNlpb1cbW0At",
        "colab_type": "code",
        "colab": {
          "base_uri": "https://localhost:8080/",
          "height": 506
        },
        "outputId": "d8efa497-1ccd-4771-a9f0-580af296b310"
      },
      "source": [
        "# number of items in sales \n",
        "x = train_data_fix\n",
        "x=train_data_fix.groupby(['shop_id']).count()\n",
        "x=x.sort_values(by='item_id',ascending=False)\n",
        "x=x.iloc[0:].reset_index()\n",
        "x\n",
        "#plot\n",
        "plt.figure(figsize=(30,8))\n",
        "ax= sns.barplot(x.shop_id, x.item_id, alpha=0.8)\n",
        "plt.title(\"Items per shop\")\n",
        "plt.ylabel('# of items', fontsize=12)\n",
        "plt.xlabel('shop_id', fontsize=12)\n",
        "plt.show()"
      ],
      "execution_count": null,
      "outputs": [
        {
          "output_type": "display_data",
          "data": {
            "image/png": "[encoded data removed]",
            "text/plain": [
              "<Figure size 2160x576 with 1 Axes>"
            ]
          },
          "metadata": {
            "tags": [],
            "needs_background": "light"
          }
        }
      ]
    },
    {
      "cell_type": "code",
      "metadata": {
        "id": "WP6PrhNiZMa0",
        "colab_type": "code",
        "colab": {
          "base_uri": "https://localhost:8080/",
          "height": 515
        },
        "outputId": "af6f6afe-19b5-4b30-9dec-c78f51b3cd7f"
      },
      "source": [
        "# number of items in sales \n",
        "x = train_data_fix\n",
        "x=train_data_fix.groupby(['month']).count()\n",
        "x=x.sort_values(by='item_id',ascending=False)\n",
        "x=x.iloc[0:].reset_index()\n",
        "x\n",
        "#plot\n",
        "plt.figure(figsize=(8,8))\n",
        "ax= sns.barplot(x.month, x.item_id, alpha=0.8)\n",
        "plt.title(\"Items per month\")\n",
        "plt.ylabel('# of items', fontsize=12)\n",
        "plt.xlabel('month', fontsize=12)\n",
        "plt.show()"
      ],
      "execution_count": null,
      "outputs": [
        {
          "output_type": "display_data",
          "data": {
            "image/png": "[encoded data removed]",
            "text/plain": [
              "<Figure size 576x576 with 1 Axes>"
            ]
          },
          "metadata": {
            "tags": [],
            "needs_background": "light"
          }
        }
      ]
    },
    {
      "cell_type": "markdown",
      "metadata": {
        "id": "13HoBxdR5Sze",
        "colab_type": "text"
      },
      "source": [
        "**Discard noise**:\n",
        "\n",
        "After examining the data set, we found that in a rough estimate, only 5500 products were sold in more than 20 units in one month at a particular store.\n",
        "Therefore, we will refer to this data as noise that we would like not to place much importance on.\n",
        "We will perform a clip process on the values so that they will be in a range of 0-20"
      ]
    },
    {
      "cell_type": "code",
      "metadata": {
        "id": "jhXMoGJGnin8",
        "colab_type": "code",
        "colab": {
          "base_uri": "https://localhost:8080/",
          "height": 406
        },
        "outputId": "8f0684e6-58ff-42c8-abd7-317418f73666"
      },
      "source": [
        "train_data_fix.nlargest(5500, 'item_cnt_month')"
      ],
      "execution_count": null,
      "outputs": [
        {
          "output_type": "execute_result",
          "data": {
            "text/html": [
              "<div>\n",
              "<style scoped>\n",
              "    .dataframe tbody tr th:only-of-type {\n",
              "        vertical-align: middle;\n",
              "    }\n",
              "\n",
              "    .dataframe tbody tr th {\n",
              "        vertical-align: top;\n",
              "    }\n",
              "\n",
              "    .dataframe thead th {\n",
              "        text-align: right;\n",
              "    }\n",
              "</style>\n",
              "<table border=\"1\" class=\"dataframe\">\n",
              "  <thead>\n",
              "    <tr style=\"text-align: right;\">\n",
              "      <th></th>\n",
              "      <th>shop_id</th>\n",
              "      <th>item_id</th>\n",
              "      <th>item_price</th>\n",
              "      <th>month</th>\n",
              "      <th>year</th>\n",
              "      <th>item_cnt_month</th>\n",
              "    </tr>\n",
              "  </thead>\n",
              "  <tbody>\n",
              "    <tr>\n",
              "      <th>98323</th>\n",
              "      <td>12</td>\n",
              "      <td>11373</td>\n",
              "      <td>0.908714</td>\n",
              "      <td>10</td>\n",
              "      <td>2015</td>\n",
              "      <td>2169.0</td>\n",
              "    </tr>\n",
              "    <tr>\n",
              "      <th>355571</th>\n",
              "      <td>31</td>\n",
              "      <td>20949</td>\n",
              "      <td>5.000000</td>\n",
              "      <td>12</td>\n",
              "      <td>2013</td>\n",
              "      <td>1280.0</td>\n",
              "    </tr>\n",
              "    <tr>\n",
              "      <th>355572</th>\n",
              "      <td>31</td>\n",
              "      <td>20949</td>\n",
              "      <td>5.000000</td>\n",
              "      <td>12</td>\n",
              "      <td>2014</td>\n",
              "      <td>1209.0</td>\n",
              "    </tr>\n",
              "    <tr>\n",
              "      <th>264615</th>\n",
              "      <td>25</td>\n",
              "      <td>20949</td>\n",
              "      <td>5.000000</td>\n",
              "      <td>12</td>\n",
              "      <td>2013</td>\n",
              "      <td>1066.0</td>\n",
              "    </tr>\n",
              "    <tr>\n",
              "      <th>103057</th>\n",
              "      <td>12</td>\n",
              "      <td>20949</td>\n",
              "      <td>4.000000</td>\n",
              "      <td>1</td>\n",
              "      <td>2015</td>\n",
              "      <td>1000.0</td>\n",
              "    </tr>\n",
              "    <tr>\n",
              "      <th>...</th>\n",
              "      <td>...</td>\n",
              "      <td>...</td>\n",
              "      <td>...</td>\n",
              "      <td>...</td>\n",
              "      <td>...</td>\n",
              "      <td>...</td>\n",
              "    </tr>\n",
              "    <tr>\n",
              "      <th>612175</th>\n",
              "      <td>57</td>\n",
              "      <td>3731</td>\n",
              "      <td>1999.000000</td>\n",
              "      <td>7</td>\n",
              "      <td>2015</td>\n",
              "      <td>20.0</td>\n",
              "    </tr>\n",
              "    <tr>\n",
              "      <th>612186</th>\n",
              "      <td>57</td>\n",
              "      <td>3732</td>\n",
              "      <td>2592.500000</td>\n",
              "      <td>9</td>\n",
              "      <td>2013</td>\n",
              "      <td>20.0</td>\n",
              "    </tr>\n",
              "    <tr>\n",
              "      <th>612836</th>\n",
              "      <td>57</td>\n",
              "      <td>4178</td>\n",
              "      <td>1590.000000</td>\n",
              "      <td>4</td>\n",
              "      <td>2014</td>\n",
              "      <td>20.0</td>\n",
              "    </tr>\n",
              "    <tr>\n",
              "      <th>612837</th>\n",
              "      <td>57</td>\n",
              "      <td>4178</td>\n",
              "      <td>1590.000000</td>\n",
              "      <td>4</td>\n",
              "      <td>2015</td>\n",
              "      <td>20.0</td>\n",
              "    </tr>\n",
              "    <tr>\n",
              "      <th>613331</th>\n",
              "      <td>57</td>\n",
              "      <td>4249</td>\n",
              "      <td>1199.000000</td>\n",
              "      <td>12</td>\n",
              "      <td>2013</td>\n",
              "      <td>20.0</td>\n",
              "    </tr>\n",
              "  </tbody>\n",
              "</table>\n",
              "<p>5500 rows × 6 columns</p>\n",
              "</div>"
            ],
            "text/plain": [
              "        shop_id  item_id   item_price  month  year  item_cnt_month\n",
              "98323        12    11373     0.908714     10  2015          2169.0\n",
              "355571       31    20949     5.000000     12  2013          1280.0\n",
              "355572       31    20949     5.000000     12  2014          1209.0\n",
              "264615       25    20949     5.000000     12  2013          1066.0\n",
              "103057       12    20949     4.000000      1  2015          1000.0\n",
              "...         ...      ...          ...    ...   ...             ...\n",
              "612175       57     3731  1999.000000      7  2015            20.0\n",
              "612186       57     3732  2592.500000      9  2013            20.0\n",
              "612836       57     4178  1590.000000      4  2014            20.0\n",
              "612837       57     4178  1590.000000      4  2015            20.0\n",
              "613331       57     4249  1199.000000     12  2013            20.0\n",
              "\n",
              "[5500 rows x 6 columns]"
            ]
          },
          "metadata": {
            "tags": []
          },
          "execution_count": 236
        }
      ]
    },
    {
      "cell_type": "code",
      "metadata": {
        "id": "vXYeRqc1gDG-",
        "colab_type": "code",
        "colab": {
          "base_uri": "https://localhost:8080/",
          "height": 406
        },
        "outputId": "2b9d9d44-dce0-472d-d28f-bc33c3c5c436"
      },
      "source": [
        "#6. From exploring the data so far, we can see that approximatly we 5500 record \n",
        "#   of items that was selled by store in amount of more than 20 units. however, \n",
        "#   we have 665816 records in total. According to this distinction, we would like \n",
        "#   to make a clip for the values of the quantity of units sold of any product in\n",
        "#   a particular month to a range of 0-20.\n",
        "\n",
        "train_data_fix['item_cnt_month'] = train_data_fix['item_cnt_month'].clip(0, 20)\n",
        "train_data_fix"
      ],
      "execution_count": null,
      "outputs": [
        {
          "output_type": "execute_result",
          "data": {
            "text/html": [
              "<div>\n",
              "<style scoped>\n",
              "    .dataframe tbody tr th:only-of-type {\n",
              "        vertical-align: middle;\n",
              "    }\n",
              "\n",
              "    .dataframe tbody tr th {\n",
              "        vertical-align: top;\n",
              "    }\n",
              "\n",
              "    .dataframe thead th {\n",
              "        text-align: right;\n",
              "    }\n",
              "</style>\n",
              "<table border=\"1\" class=\"dataframe\">\n",
              "  <thead>\n",
              "    <tr style=\"text-align: right;\">\n",
              "      <th></th>\n",
              "      <th>shop_id</th>\n",
              "      <th>item_id</th>\n",
              "      <th>item_price</th>\n",
              "      <th>month</th>\n",
              "      <th>year</th>\n",
              "      <th>item_cnt_month</th>\n",
              "    </tr>\n",
              "  </thead>\n",
              "  <tbody>\n",
              "    <tr>\n",
              "      <th>0</th>\n",
              "      <td>2</td>\n",
              "      <td>30</td>\n",
              "      <td>169.0</td>\n",
              "      <td>4</td>\n",
              "      <td>2014</td>\n",
              "      <td>1.0</td>\n",
              "    </tr>\n",
              "    <tr>\n",
              "      <th>1</th>\n",
              "      <td>2</td>\n",
              "      <td>30</td>\n",
              "      <td>169.0</td>\n",
              "      <td>5</td>\n",
              "      <td>2014</td>\n",
              "      <td>1.0</td>\n",
              "    </tr>\n",
              "    <tr>\n",
              "      <th>2</th>\n",
              "      <td>2</td>\n",
              "      <td>30</td>\n",
              "      <td>359.0</td>\n",
              "      <td>3</td>\n",
              "      <td>2013</td>\n",
              "      <td>1.0</td>\n",
              "    </tr>\n",
              "    <tr>\n",
              "      <th>3</th>\n",
              "      <td>2</td>\n",
              "      <td>30</td>\n",
              "      <td>399.0</td>\n",
              "      <td>6</td>\n",
              "      <td>2013</td>\n",
              "      <td>1.0</td>\n",
              "    </tr>\n",
              "    <tr>\n",
              "      <th>4</th>\n",
              "      <td>2</td>\n",
              "      <td>31</td>\n",
              "      <td>399.0</td>\n",
              "      <td>10</td>\n",
              "      <td>2015</td>\n",
              "      <td>1.0</td>\n",
              "    </tr>\n",
              "    <tr>\n",
              "      <th>...</th>\n",
              "      <td>...</td>\n",
              "      <td>...</td>\n",
              "      <td>...</td>\n",
              "      <td>...</td>\n",
              "      <td>...</td>\n",
              "      <td>...</td>\n",
              "    </tr>\n",
              "    <tr>\n",
              "      <th>665811</th>\n",
              "      <td>59</td>\n",
              "      <td>22164</td>\n",
              "      <td>749.0</td>\n",
              "      <td>2</td>\n",
              "      <td>2015</td>\n",
              "      <td>2.0</td>\n",
              "    </tr>\n",
              "    <tr>\n",
              "      <th>665812</th>\n",
              "      <td>59</td>\n",
              "      <td>22164</td>\n",
              "      <td>749.0</td>\n",
              "      <td>3</td>\n",
              "      <td>2015</td>\n",
              "      <td>1.0</td>\n",
              "    </tr>\n",
              "    <tr>\n",
              "      <th>665813</th>\n",
              "      <td>59</td>\n",
              "      <td>22167</td>\n",
              "      <td>299.0</td>\n",
              "      <td>6</td>\n",
              "      <td>2014</td>\n",
              "      <td>1.0</td>\n",
              "    </tr>\n",
              "    <tr>\n",
              "      <th>665814</th>\n",
              "      <td>59</td>\n",
              "      <td>22167</td>\n",
              "      <td>299.0</td>\n",
              "      <td>10</td>\n",
              "      <td>2013</td>\n",
              "      <td>1.0</td>\n",
              "    </tr>\n",
              "    <tr>\n",
              "      <th>665815</th>\n",
              "      <td>59</td>\n",
              "      <td>22167</td>\n",
              "      <td>299.0</td>\n",
              "      <td>12</td>\n",
              "      <td>2013</td>\n",
              "      <td>2.0</td>\n",
              "    </tr>\n",
              "  </tbody>\n",
              "</table>\n",
              "<p>665816 rows × 6 columns</p>\n",
              "</div>"
            ],
            "text/plain": [
              "        shop_id  item_id  item_price  month  year  item_cnt_month\n",
              "0             2       30       169.0      4  2014             1.0\n",
              "1             2       30       169.0      5  2014             1.0\n",
              "2             2       30       359.0      3  2013             1.0\n",
              "3             2       30       399.0      6  2013             1.0\n",
              "4             2       31       399.0     10  2015             1.0\n",
              "...         ...      ...         ...    ...   ...             ...\n",
              "665811       59    22164       749.0      2  2015             2.0\n",
              "665812       59    22164       749.0      3  2015             1.0\n",
              "665813       59    22167       299.0      6  2014             1.0\n",
              "665814       59    22167       299.0     10  2013             1.0\n",
              "665815       59    22167       299.0     12  2013             2.0\n",
              "\n",
              "[665816 rows x 6 columns]"
            ]
          },
          "metadata": {
            "tags": []
          },
          "execution_count": 237
        }
      ]
    },
    {
      "cell_type": "code",
      "metadata": {
        "id": "wnmkhK9rp-RO",
        "colab_type": "code",
        "colab": {
          "base_uri": "https://localhost:8080/",
          "height": 406
        },
        "outputId": "b4a09f3c-2a67-4d1b-e5f9-14a903669bd5"
      },
      "source": [
        "train_data_fix.nlargest(500000, 'item_cnt_month')"
      ],
      "execution_count": null,
      "outputs": [
        {
          "output_type": "execute_result",
          "data": {
            "text/html": [
              "<div>\n",
              "<style scoped>\n",
              "    .dataframe tbody tr th:only-of-type {\n",
              "        vertical-align: middle;\n",
              "    }\n",
              "\n",
              "    .dataframe tbody tr th {\n",
              "        vertical-align: top;\n",
              "    }\n",
              "\n",
              "    .dataframe thead th {\n",
              "        text-align: right;\n",
              "    }\n",
              "</style>\n",
              "<table border=\"1\" class=\"dataframe\">\n",
              "  <thead>\n",
              "    <tr style=\"text-align: right;\">\n",
              "      <th></th>\n",
              "      <th>shop_id</th>\n",
              "      <th>item_id</th>\n",
              "      <th>item_price</th>\n",
              "      <th>month</th>\n",
              "      <th>year</th>\n",
              "      <th>item_cnt_month</th>\n",
              "    </tr>\n",
              "  </thead>\n",
              "  <tbody>\n",
              "    <tr>\n",
              "      <th>291</th>\n",
              "      <td>2</td>\n",
              "      <td>1495</td>\n",
              "      <td>599.0</td>\n",
              "      <td>12</td>\n",
              "      <td>2013</td>\n",
              "      <td>20.0</td>\n",
              "    </tr>\n",
              "    <tr>\n",
              "      <th>385</th>\n",
              "      <td>2</td>\n",
              "      <td>1555</td>\n",
              "      <td>1299.0</td>\n",
              "      <td>11</td>\n",
              "      <td>2014</td>\n",
              "      <td>20.0</td>\n",
              "    </tr>\n",
              "    <tr>\n",
              "      <th>401</th>\n",
              "      <td>2</td>\n",
              "      <td>1556</td>\n",
              "      <td>2999.0</td>\n",
              "      <td>11</td>\n",
              "      <td>2014</td>\n",
              "      <td>20.0</td>\n",
              "    </tr>\n",
              "    <tr>\n",
              "      <th>574</th>\n",
              "      <td>2</td>\n",
              "      <td>1857</td>\n",
              "      <td>2599.0</td>\n",
              "      <td>12</td>\n",
              "      <td>2013</td>\n",
              "      <td>20.0</td>\n",
              "    </tr>\n",
              "    <tr>\n",
              "      <th>861</th>\n",
              "      <td>2</td>\n",
              "      <td>2293</td>\n",
              "      <td>999.0</td>\n",
              "      <td>11</td>\n",
              "      <td>2014</td>\n",
              "      <td>20.0</td>\n",
              "    </tr>\n",
              "    <tr>\n",
              "      <th>...</th>\n",
              "      <td>...</td>\n",
              "      <td>...</td>\n",
              "      <td>...</td>\n",
              "      <td>...</td>\n",
              "      <td>...</td>\n",
              "      <td>...</td>\n",
              "    </tr>\n",
              "    <tr>\n",
              "      <th>408145</th>\n",
              "      <td>38</td>\n",
              "      <td>20736</td>\n",
              "      <td>399.0</td>\n",
              "      <td>9</td>\n",
              "      <td>2014</td>\n",
              "      <td>1.0</td>\n",
              "    </tr>\n",
              "    <tr>\n",
              "      <th>408146</th>\n",
              "      <td>38</td>\n",
              "      <td>20736</td>\n",
              "      <td>399.0</td>\n",
              "      <td>11</td>\n",
              "      <td>2014</td>\n",
              "      <td>1.0</td>\n",
              "    </tr>\n",
              "    <tr>\n",
              "      <th>408147</th>\n",
              "      <td>38</td>\n",
              "      <td>20736</td>\n",
              "      <td>399.0</td>\n",
              "      <td>12</td>\n",
              "      <td>2014</td>\n",
              "      <td>1.0</td>\n",
              "    </tr>\n",
              "    <tr>\n",
              "      <th>408149</th>\n",
              "      <td>38</td>\n",
              "      <td>20736</td>\n",
              "      <td>499.0</td>\n",
              "      <td>4</td>\n",
              "      <td>2015</td>\n",
              "      <td>1.0</td>\n",
              "    </tr>\n",
              "    <tr>\n",
              "      <th>408150</th>\n",
              "      <td>38</td>\n",
              "      <td>20736</td>\n",
              "      <td>499.0</td>\n",
              "      <td>8</td>\n",
              "      <td>2015</td>\n",
              "      <td>1.0</td>\n",
              "    </tr>\n",
              "  </tbody>\n",
              "</table>\n",
              "<p>500000 rows × 6 columns</p>\n",
              "</div>"
            ],
            "text/plain": [
              "        shop_id  item_id  item_price  month  year  item_cnt_month\n",
              "291           2     1495       599.0     12  2013            20.0\n",
              "385           2     1555      1299.0     11  2014            20.0\n",
              "401           2     1556      2999.0     11  2014            20.0\n",
              "574           2     1857      2599.0     12  2013            20.0\n",
              "861           2     2293       999.0     11  2014            20.0\n",
              "...         ...      ...         ...    ...   ...             ...\n",
              "408145       38    20736       399.0      9  2014             1.0\n",
              "408146       38    20736       399.0     11  2014             1.0\n",
              "408147       38    20736       399.0     12  2014             1.0\n",
              "408149       38    20736       499.0      4  2015             1.0\n",
              "408150       38    20736       499.0      8  2015             1.0\n",
              "\n",
              "[500000 rows x 6 columns]"
            ]
          },
          "metadata": {
            "tags": []
          },
          "execution_count": 238
        }
      ]
    },
    {
      "cell_type": "markdown",
      "metadata": {
        "id": "fx7lc5JJ5nrU",
        "colab_type": "text"
      },
      "source": [
        "**Fitting a classic ML Algorithm**:\n",
        "\n",
        "We chose to use Random Forest Regressor algorithm."
      ]
    },
    {
      "cell_type": "code",
      "metadata": {
        "id": "sGyjLXxuxqvx",
        "colab_type": "code",
        "colab": {
          "base_uri": "https://localhost:8080/",
          "height": 72
        },
        "outputId": "899f3d8d-e3f4-4c77-c156-607d496af783"
      },
      "source": [
        "random_forest_regressor = RandomForestRegressor(n_estimators=75, max_depth=7, random_state=0, n_jobs=-1)\n",
        "to_train = train_data_fix.sample(frac=0.8,random_state=200) #random state is a seed value\n",
        "\n",
        "X_train = to_train[['shop_id', 'item_id', 'month', 'year']]\n",
        "Y_train = to_train[['item_cnt_month']]\n",
        "\n",
        "to_validation = train_data_fix.drop(to_train.index)\n",
        "X_val = to_validation[['shop_id', 'item_id', 'month', 'year']]\n",
        "Y_val = to_validation[['item_cnt_month']]\n",
        "\n",
        "\n",
        "ml_history = random_forest_regressor.fit(X_train, Y_train)"
      ],
      "execution_count": null,
      "outputs": [
        {
          "output_type": "stream",
          "text": [
            "/usr/local/lib/python3.6/dist-packages/ipykernel_launcher.py:12: DataConversionWarning: A column-vector y was passed when a 1d array was expected. Please change the shape of y to (n_samples,), for example using ravel().\n",
            "  if sys.path[0] == '':\n"
          ],
          "name": "stderr"
        }
      ]
    },
    {
      "cell_type": "code",
      "metadata": {
        "id": "gyLDrw5G0lbO",
        "colab_type": "code",
        "colab": {
          "base_uri": "https://localhost:8080/",
          "height": 34
        },
        "outputId": "33cbb3ff-6409-4be0-e68a-ed279e0af071"
      },
      "source": [
        "ml_prediction_val = random_forest_regressor.predict(X_val)\n",
        "ml_rmse_val = sqrt(mean_squared_error(Y_val, ml_prediction_val))\n",
        "\n",
        "ml_prediction_val = random_forest_regressor.predict(X_val)\n",
        "ml_rmse_val = sqrt(mean_squared_error(Y_val, ml_prediction_val))\n",
        "\n",
        "ml_prediction_test = random_forest_regressor.predict(test_data_fix)\n",
        "\n",
        "print(ml_rmse_val)"
      ],
      "execution_count": null,
      "outputs": [
        {
          "output_type": "stream",
          "text": [
            "2.443456633402323\n"
          ],
          "name": "stdout"
        }
      ]
    },
    {
      "cell_type": "code",
      "metadata": {
        "id": "Y_4ZtbKhZzzY",
        "colab_type": "code",
        "colab": {}
      },
      "source": [
        "ml_prediction_test_to_file = pd.DataFrame(ml_prediction_test, columns=['item_cnt_month'])\n",
        "ml_prediction_test_to_file.to_csv(dataset_path + '/ml_submission.csv',index_label='ID')"
      ],
      "execution_count": null,
      "outputs": []
    },
    {
      "cell_type": "code",
      "metadata": {
        "id": "oa17qJl2KFSZ",
        "colab_type": "code",
        "colab": {
          "base_uri": "https://localhost:8080/",
          "height": 34
        },
        "outputId": "8c231134-df7f-4033-c379-244ba93735cd"
      },
      "source": [
        "print(\"Submission 1 score: 1.90068\")"
      ],
      "execution_count": null,
      "outputs": [
        {
          "output_type": "stream",
          "text": [
            "Submission 1 score: 1.90068\n"
          ],
          "name": "stdout"
        }
      ]
    },
    {
      "cell_type": "markdown",
      "metadata": {
        "id": "EN4WnkX2soVz",
        "colab_type": "text"
      },
      "source": [
        "As we can see we got a reasonable result for the validation part of the data.\n",
        "We now will make a prediction on the test data also and submit it to kaggle."
      ]
    },
    {
      "cell_type": "markdown",
      "metadata": {
        "id": "5vnLnCHNswCs",
        "colab_type": "text"
      },
      "source": [
        "###3.c create an embedding for the dataset relevant variables."
      ]
    },
    {
      "cell_type": "code",
      "metadata": {
        "id": "2JtvB_bs7NIB",
        "colab_type": "code",
        "colab": {
          "base_uri": "https://localhost:8080/",
          "height": 34
        },
        "outputId": "532d02b2-3b49-468e-c938-ec1782486fb7"
      },
      "source": [
        "n_factors = 35\n",
        "unq_shop_length = train_data_fix['shop_id'].max() + 1\n",
        "unq_item_length = train_data_fix['item_id'].max() + 1\n",
        "unq_month_length = train_data_fix['month'].max() + 1\n",
        "unq_shop_length, unq_item_length, unq_month_length, n_factors "
      ],
      "execution_count": null,
      "outputs": [
        {
          "output_type": "execute_result",
          "data": {
            "text/plain": [
              "(60, 22168, 13, 35)"
            ]
          },
          "metadata": {
            "tags": []
          },
          "execution_count": 242
        }
      ]
    },
    {
      "cell_type": "code",
      "metadata": {
        "id": "T3nsy0mTsMRc",
        "colab_type": "code",
        "colab": {}
      },
      "source": [
        "#1. We will use embedding layer to improve our result as shown in class\n",
        "shop_in = Input(shape=(1,), dtype='int64')\n",
        "s_embd = Embedding(unq_shop_length, 50, input_length=1, embeddings_regularizer=l2(1e-4))(shop_in)\n",
        "\n",
        "item_in = Input(shape=(1,), dtype='int64')\n",
        "i_embd = Embedding(unq_item_length, 50, input_length=1, embeddings_regularizer=l2(1e-4))(item_in)\n",
        "\n",
        "month_in = Input(shape=(1,), dtype='int64')\n",
        "m_embd = Embedding(unq_month_length, 50, input_length=1, embeddings_regularizer=l2(1e-4))(month_in)\n"
      ],
      "execution_count": null,
      "outputs": []
    },
    {
      "cell_type": "markdown",
      "metadata": {
        "id": "GmpgmnenPrOV",
        "colab_type": "text"
      },
      "source": [
        "###3.d"
      ]
    },
    {
      "cell_type": "code",
      "metadata": {
        "id": "tVwveqdH-3nT",
        "colab_type": "code",
        "colab": {
          "base_uri": "https://localhost:8080/",
          "height": 798
        },
        "outputId": "e01cfc15-25a6-42a3-ba3b-105df8dd2a55"
      },
      "source": [
        "#2. Creating a model\n",
        "x = concatenate([s_embd,i_embd, m_embd])\n",
        "x = Flatten()(x)\n",
        "x = BatchNormalization()(x)\n",
        "x = Dense(10,activation='relu')(x)\n",
        "x = Dense(10,activation='relu')(x)\n",
        "x = Dropout(0.4)(x)\n",
        "x = BatchNormalization()(x)\n",
        "x = Dense(10,activation='relu')(x)\n",
        "x = Dense(10,activation='relu')(x)\n",
        "x = Dropout(0.7)(x)\n",
        "x = Dense(1,activation='relu')(x)\n",
        "nn_model = Model([shop_in,item_in,month_in],x)\n",
        "nn_model.compile(loss = 'mse',optimizer='adam')\n",
        "nn_model.summary()"
      ],
      "execution_count": null,
      "outputs": [
        {
          "output_type": "stream",
          "text": [
            "Model: \"model_46\"\n",
            "__________________________________________________________________________________________________\n",
            "Layer (type)                    Output Shape         Param #     Connected to                     \n",
            "==================================================================================================\n",
            "input_63 (InputLayer)           (None, 1)            0                                            \n",
            "__________________________________________________________________________________________________\n",
            "input_64 (InputLayer)           (None, 1)            0                                            \n",
            "__________________________________________________________________________________________________\n",
            "input_65 (InputLayer)           (None, 1)            0                                            \n",
            "__________________________________________________________________________________________________\n",
            "embedding_62 (Embedding)        (None, 1, 50)        3000        input_63[0][0]                   \n",
            "__________________________________________________________________________________________________\n",
            "embedding_63 (Embedding)        (None, 1, 50)        1108400     input_64[0][0]                   \n",
            "__________________________________________________________________________________________________\n",
            "embedding_64 (Embedding)        (None, 1, 50)        650         input_65[0][0]                   \n",
            "__________________________________________________________________________________________________\n",
            "concatenate_42 (Concatenate)    (None, 1, 150)       0           embedding_62[0][0]               \n",
            "                                                                 embedding_63[0][0]               \n",
            "                                                                 embedding_64[0][0]               \n",
            "__________________________________________________________________________________________________\n",
            "flatten_42 (Flatten)            (None, 150)          0           concatenate_42[0][0]             \n",
            "__________________________________________________________________________________________________\n",
            "batch_normalization_60 (BatchNo (None, 150)          600         flatten_42[0][0]                 \n",
            "__________________________________________________________________________________________________\n",
            "dense_176 (Dense)               (None, 10)           1510        batch_normalization_60[0][0]     \n",
            "__________________________________________________________________________________________________\n",
            "dense_177 (Dense)               (None, 10)           110         dense_176[0][0]                  \n",
            "__________________________________________________________________________________________________\n",
            "dropout_76 (Dropout)            (None, 10)           0           dense_177[0][0]                  \n",
            "__________________________________________________________________________________________________\n",
            "batch_normalization_61 (BatchNo (None, 10)           40          dropout_76[0][0]                 \n",
            "__________________________________________________________________________________________________\n",
            "dense_178 (Dense)               (None, 10)           110         batch_normalization_61[0][0]     \n",
            "__________________________________________________________________________________________________\n",
            "dense_179 (Dense)               (None, 10)           110         dense_178[0][0]                  \n",
            "__________________________________________________________________________________________________\n",
            "dropout_77 (Dropout)            (None, 10)           0           dense_179[0][0]                  \n",
            "__________________________________________________________________________________________________\n",
            "dense_180 (Dense)               (None, 1)            11          dropout_77[0][0]                 \n",
            "==================================================================================================\n",
            "Total params: 1,114,541\n",
            "Trainable params: 1,114,221\n",
            "Non-trainable params: 320\n",
            "__________________________________________________________________________________________________\n"
          ],
          "name": "stdout"
        }
      ]
    },
    {
      "cell_type": "code",
      "metadata": {
        "id": "w-7O5PJTAjMG",
        "colab_type": "code",
        "colab": {
          "base_uri": "https://localhost:8080/",
          "height": 1000
        },
        "outputId": "27d1ed23-d58b-4c6d-91e3-c535073918e9"
      },
      "source": [
        "history=nn_model.fit([X_train['shop_id'], X_train['item_id'], X_train['month']] ,Y_train['item_cnt_month'],epochs=30,\n",
        "                 validation_data=([X_val['shop_id'], X_val['item_id'], X_val['month']], Y_val['item_cnt_month']) ,batch_size = 4096)"
      ],
      "execution_count": null,
      "outputs": [
        {
          "output_type": "stream",
          "text": [
            "/usr/local/lib/python3.6/dist-packages/tensorflow/python/framework/indexed_slices.py:434: UserWarning: Converting sparse IndexedSlices to a dense Tensor of unknown shape. This may consume a large amount of memory.\n",
            "  \"Converting sparse IndexedSlices to a dense Tensor of unknown shape. \"\n"
          ],
          "name": "stderr"
        },
        {
          "output_type": "stream",
          "text": [
            "Train on 532653 samples, validate on 133163 samples\n",
            "Epoch 1/30\n",
            "532653/532653 [==============================] - 6s 11us/step - loss: 8.7934 - val_loss: 9.0292\n",
            "Epoch 2/30\n",
            "532653/532653 [==============================] - 5s 9us/step - loss: 7.2707 - val_loss: 8.3347\n",
            "Epoch 3/30\n",
            "532653/532653 [==============================] - 5s 9us/step - loss: 6.8705 - val_loss: 7.5725\n",
            "Epoch 4/30\n",
            "532653/532653 [==============================] - 5s 9us/step - loss: 6.6051 - val_loss: 6.6986\n",
            "Epoch 5/30\n",
            "532653/532653 [==============================] - 5s 10us/step - loss: 6.3798 - val_loss: 6.2409\n",
            "Epoch 6/30\n",
            "532653/532653 [==============================] - 7s 14us/step - loss: 6.2416 - val_loss: 5.8120\n",
            "Epoch 7/30\n",
            "532653/532653 [==============================] - 6s 11us/step - loss: 6.0621 - val_loss: 5.7130\n",
            "Epoch 8/30\n",
            "532653/532653 [==============================] - 5s 9us/step - loss: 5.8906 - val_loss: 5.6665\n",
            "Epoch 9/30\n",
            "532653/532653 [==============================] - 5s 10us/step - loss: 5.7809 - val_loss: 5.5901\n",
            "Epoch 10/30\n",
            "532653/532653 [==============================] - 5s 10us/step - loss: 5.6985 - val_loss: 5.4751\n",
            "Epoch 11/30\n",
            "532653/532653 [==============================] - 5s 10us/step - loss: 5.5422 - val_loss: 5.5387\n",
            "Epoch 12/30\n",
            "532653/532653 [==============================] - 5s 9us/step - loss: 5.4982 - val_loss: 5.6191\n",
            "Epoch 13/30\n",
            "532653/532653 [==============================] - 5s 10us/step - loss: 5.4128 - val_loss: 5.5452\n",
            "Epoch 14/30\n",
            "532653/532653 [==============================] - 5s 10us/step - loss: 5.3378 - val_loss: 5.4271\n",
            "Epoch 15/30\n",
            "532653/532653 [==============================] - 5s 10us/step - loss: 5.3134 - val_loss: 5.4953\n",
            "Epoch 16/30\n",
            "532653/532653 [==============================] - 5s 10us/step - loss: 5.2552 - val_loss: 5.3885\n",
            "Epoch 17/30\n",
            "532653/532653 [==============================] - 5s 10us/step - loss: 5.2207 - val_loss: 5.5126\n",
            "Epoch 18/30\n",
            "532653/532653 [==============================] - 5s 10us/step - loss: 5.2063 - val_loss: 5.5163\n",
            "Epoch 19/30\n",
            "532653/532653 [==============================] - 5s 9us/step - loss: 5.2040 - val_loss: 5.4377\n",
            "Epoch 20/30\n",
            "532653/532653 [==============================] - 5s 9us/step - loss: 5.1806 - val_loss: 5.4423\n",
            "Epoch 21/30\n",
            "532653/532653 [==============================] - 5s 10us/step - loss: 5.1792 - val_loss: 5.4715\n",
            "Epoch 22/30\n",
            "532653/532653 [==============================] - 5s 10us/step - loss: 5.1765 - val_loss: 5.3764\n",
            "Epoch 23/30\n",
            "532653/532653 [==============================] - 5s 10us/step - loss: 5.1614 - val_loss: 5.4389\n",
            "Epoch 24/30\n",
            "532653/532653 [==============================] - 5s 9us/step - loss: 5.1507 - val_loss: 5.5506\n",
            "Epoch 25/30\n",
            "532653/532653 [==============================] - 5s 10us/step - loss: 5.1599 - val_loss: 5.5444\n",
            "Epoch 26/30\n",
            "532653/532653 [==============================] - 5s 9us/step - loss: 5.1300 - val_loss: 5.5311\n",
            "Epoch 27/30\n",
            "532653/532653 [==============================] - 5s 9us/step - loss: 5.1392 - val_loss: 5.5806\n",
            "Epoch 28/30\n",
            "532653/532653 [==============================] - 5s 10us/step - loss: 5.1261 - val_loss: 5.3649\n",
            "Epoch 29/30\n",
            "532653/532653 [==============================] - 5s 9us/step - loss: 5.1204 - val_loss: 5.4820\n",
            "Epoch 30/30\n",
            "532653/532653 [==============================] - 5s 9us/step - loss: 5.1382 - val_loss: 5.3812\n"
          ],
          "name": "stdout"
        }
      ]
    },
    {
      "cell_type": "code",
      "metadata": {
        "id": "bj58UpeEANzx",
        "colab_type": "code",
        "colab": {
          "base_uri": "https://localhost:8080/",
          "height": 52
        },
        "outputId": "db4fac21-32e7-4cf2-e7c9-d50e4033ad14"
      },
      "source": [
        "dl_prediction_train = nn_model.predict([X_train['shop_id'], X_train['item_id'], X_train['month']])\n",
        "dl_rmse_train = sqrt(mean_squared_error(Y_train, dl_prediction_train))\n",
        "print(\"train prediction:\", dl_rmse_train)\n",
        "\n",
        "dl_prediction_val = nn_model.predict([X_val['shop_id'], X_val['item_id'], X_val['month']])\n",
        "dl_rmse_val = sqrt(mean_squared_error(Y_val, dl_prediction_val))\n",
        "print(\"validation prediction:\",dl_rmse_val)\n",
        "\n",
        "\n",
        "dl_prediction_test = nn_model.predict([test_data_fix['shop_id'], test_data_fix['item_id'], test_data_fix['month']])"
      ],
      "execution_count": null,
      "outputs": [
        {
          "output_type": "stream",
          "text": [
            "train prediction: 2.1691525253310333\n",
            "validation prediction: 2.2236633493669524\n"
          ],
          "name": "stdout"
        }
      ]
    },
    {
      "cell_type": "code",
      "metadata": {
        "id": "MPFZTO_RY7nc",
        "colab_type": "code",
        "colab": {
          "base_uri": "https://localhost:8080/",
          "height": 294
        },
        "outputId": "7611a2fe-9630-4ee4-bccc-1cdcfce080bb"
      },
      "source": [
        "plot_history(history)"
      ],
      "execution_count": null,
      "outputs": [
        {
          "output_type": "display_data",
          "data": {
            "image/png": "[encoded data removed]",
            "text/plain": [
              "<Figure size 432x288 with 1 Axes>"
            ]
          },
          "metadata": {
            "tags": [],
            "needs_background": "light"
          }
        }
      ]
    },
    {
      "cell_type": "code",
      "metadata": {
        "id": "i1A7_Wy8DkLo",
        "colab_type": "code",
        "colab": {}
      },
      "source": [
        "dl_prediction_test_to_file = pd.DataFrame(dl_prediction_test, columns=['item_cnt_month'])\n",
        "dl_prediction_test_to_file.to_csv(dataset_path + '/submission.csv',index_label='ID')"
      ],
      "execution_count": null,
      "outputs": []
    },
    {
      "cell_type": "code",
      "metadata": {
        "id": "fAgiIBjeED0U",
        "colab_type": "code",
        "colab": {
          "base_uri": "https://localhost:8080/",
          "height": 34
        },
        "outputId": "4998011b-b929-4a62-9a49-e6d71025a5ab"
      },
      "source": [
        "print(\"Submission 2 score: 1.86864\")"
      ],
      "execution_count": null,
      "outputs": [
        {
          "output_type": "stream",
          "text": [
            "Submission 2 score: 1.86864\n"
          ],
          "name": "stdout"
        }
      ]
    },
    {
      "cell_type": "markdown",
      "metadata": {
        "id": "JSyXwQu_P5Ot",
        "colab_type": "text"
      },
      "source": [
        "###3.e"
      ]
    },
    {
      "cell_type": "markdown",
      "metadata": {
        "id": "g3oxbZi_8paN",
        "colab_type": "text"
      },
      "source": [
        "In the last model we used only 3 features, now we would like to increase the number of features to get a better result."
      ]
    },
    {
      "cell_type": "code",
      "metadata": {
        "id": "2GORZe7HIy-7",
        "colab_type": "code",
        "colab": {}
      },
      "source": [
        "unq_year_length = train_data_fix['year'].max() + 1\n",
        "\n",
        "#1. We will use embedding layer to improve our result as shown in class\n",
        "shop_in = Input(shape=(1,), dtype='int64')\n",
        "s_embd = Embedding(unq_shop_length, 50, input_length=1, embeddings_regularizer=l2(1e-4))(shop_in)\n",
        "\n",
        "item_in = Input(shape=(1,), dtype='int64')\n",
        "i_embd = Embedding(unq_item_length, 50, input_length=1, embeddings_regularizer=l2(1e-4))(item_in)\n",
        "\n",
        "month_in = Input(shape=(1,), dtype='int64')\n",
        "m_embd = Embedding(unq_month_length, 50, input_length=1, embeddings_regularizer=l2(1e-4))(month_in)\n",
        "\n",
        "year_in = Input(shape=(1,), dtype='int64')\n",
        "y_embd = Embedding(unq_year_length, 50, input_length=1, embeddings_regularizer=l2(1e-4))(year_in)"
      ],
      "execution_count": null,
      "outputs": []
    },
    {
      "cell_type": "code",
      "metadata": {
        "id": "EYz8nviZ9HyG",
        "colab_type": "code",
        "colab": {}
      },
      "source": [
        "y = concatenate([s_embd,i_embd, m_embd, y_embd])\n",
        "y = Flatten()(y)\n",
        "y = BatchNormalization()(y)\n",
        "y = Dense(10,activation='relu')(y)\n",
        "y = Dense(10,activation='relu')(y)\n",
        "y = Dropout(0.4)(y)\n",
        "y = BatchNormalization()(y)\n",
        "y = Dense(10,activation='relu')(y)\n",
        "y = Dense(10,activation='relu')(y)\n",
        "y = Dropout(0.7)(y)\n",
        "y = Dense(1,activation='relu')(y)\n",
        "nn_model_extra_feature = Model([shop_in,item_in,month_in, year_in],y)\n",
        "nn_model_extra_feature.compile(loss = 'mse',optimizer='adam')"
      ],
      "execution_count": null,
      "outputs": []
    },
    {
      "cell_type": "code",
      "metadata": {
        "id": "psmx9zfuIY5g",
        "colab_type": "code",
        "colab": {
          "base_uri": "https://localhost:8080/",
          "height": 887
        },
        "outputId": "d86118cd-e5b2-4a90-e71b-562620ff6207"
      },
      "source": [
        "nn_model_extra_feature.compile(loss = 'mse',optimizer='adam')\n",
        "nn_model_extra_feature.summary()"
      ],
      "execution_count": null,
      "outputs": [
        {
          "output_type": "stream",
          "text": [
            "Model: \"model_45\"\n",
            "__________________________________________________________________________________________________\n",
            "Layer (type)                    Output Shape         Param #     Connected to                     \n",
            "==================================================================================================\n",
            "input_63 (InputLayer)           (None, 1)            0                                            \n",
            "__________________________________________________________________________________________________\n",
            "input_64 (InputLayer)           (None, 1)            0                                            \n",
            "__________________________________________________________________________________________________\n",
            "input_65 (InputLayer)           (None, 1)            0                                            \n",
            "__________________________________________________________________________________________________\n",
            "input_66 (InputLayer)           (None, 1)            0                                            \n",
            "__________________________________________________________________________________________________\n",
            "embedding_62 (Embedding)        (None, 1, 50)        3000        input_63[0][0]                   \n",
            "__________________________________________________________________________________________________\n",
            "embedding_63 (Embedding)        (None, 1, 50)        1108400     input_64[0][0]                   \n",
            "__________________________________________________________________________________________________\n",
            "embedding_64 (Embedding)        (None, 1, 50)        650         input_65[0][0]                   \n",
            "__________________________________________________________________________________________________\n",
            "embedding_65 (Embedding)        (None, 1, 50)        100800      input_66[0][0]                   \n",
            "__________________________________________________________________________________________________\n",
            "concatenate_41 (Concatenate)    (None, 1, 200)       0           embedding_62[0][0]               \n",
            "                                                                 embedding_63[0][0]               \n",
            "                                                                 embedding_64[0][0]               \n",
            "                                                                 embedding_65[0][0]               \n",
            "__________________________________________________________________________________________________\n",
            "flatten_41 (Flatten)            (None, 200)          0           concatenate_41[0][0]             \n",
            "__________________________________________________________________________________________________\n",
            "batch_normalization_58 (BatchNo (None, 200)          800         flatten_41[0][0]                 \n",
            "__________________________________________________________________________________________________\n",
            "dense_171 (Dense)               (None, 10)           2010        batch_normalization_58[0][0]     \n",
            "__________________________________________________________________________________________________\n",
            "dense_172 (Dense)               (None, 10)           110         dense_171[0][0]                  \n",
            "__________________________________________________________________________________________________\n",
            "dropout_74 (Dropout)            (None, 10)           0           dense_172[0][0]                  \n",
            "__________________________________________________________________________________________________\n",
            "batch_normalization_59 (BatchNo (None, 10)           40          dropout_74[0][0]                 \n",
            "__________________________________________________________________________________________________\n",
            "dense_173 (Dense)               (None, 10)           110         batch_normalization_59[0][0]     \n",
            "__________________________________________________________________________________________________\n",
            "dense_174 (Dense)               (None, 10)           110         dense_173[0][0]                  \n",
            "__________________________________________________________________________________________________\n",
            "dropout_75 (Dropout)            (None, 10)           0           dense_174[0][0]                  \n",
            "__________________________________________________________________________________________________\n",
            "dense_175 (Dense)               (None, 1)            11          dropout_75[0][0]                 \n",
            "==================================================================================================\n",
            "Total params: 1,216,041\n",
            "Trainable params: 1,215,621\n",
            "Non-trainable params: 420\n",
            "__________________________________________________________________________________________________\n"
          ],
          "name": "stdout"
        }
      ]
    },
    {
      "cell_type": "code",
      "metadata": {
        "id": "0XT_jHWdHwNU",
        "colab_type": "code",
        "colab": {
          "base_uri": "https://localhost:8080/",
          "height": 1000
        },
        "outputId": "0c7d02ea-3015-4748-b56d-30746019911d"
      },
      "source": [
        "history_extra_feature=nn_model_extra_feature.fit([X_train['shop_id'], X_train['item_id'], X_train['month'], X_train['year']] ,Y_train['item_cnt_month'],epochs=30,\n",
        "                 validation_data=([X_val['shop_id'], X_val['item_id'], X_val['month'], X_val['year']], Y_val['item_cnt_month']) ,batch_size = 4096)"
      ],
      "execution_count": null,
      "outputs": [
        {
          "output_type": "stream",
          "text": [
            "/usr/local/lib/python3.6/dist-packages/tensorflow/python/framework/indexed_slices.py:434: UserWarning: Converting sparse IndexedSlices to a dense Tensor of unknown shape. This may consume a large amount of memory.\n",
            "  \"Converting sparse IndexedSlices to a dense Tensor of unknown shape. \"\n"
          ],
          "name": "stderr"
        },
        {
          "output_type": "stream",
          "text": [
            "Train on 532653 samples, validate on 133163 samples\n",
            "Epoch 1/30\n",
            "532653/532653 [==============================] - 6s 12us/step - loss: 8.9359 - val_loss: 8.4655\n",
            "Epoch 2/30\n",
            "532653/532653 [==============================] - 6s 11us/step - loss: 6.8658 - val_loss: 7.6270\n",
            "Epoch 3/30\n",
            "532653/532653 [==============================] - 6s 11us/step - loss: 6.3580 - val_loss: 6.9463\n",
            "Epoch 4/30\n",
            "532653/532653 [==============================] - 6s 11us/step - loss: 6.0638 - val_loss: 5.9917\n",
            "Epoch 5/30\n",
            "532653/532653 [==============================] - 6s 11us/step - loss: 5.8725 - val_loss: 5.2956\n",
            "Epoch 6/30\n",
            "532653/532653 [==============================] - 6s 10us/step - loss: 5.6585 - val_loss: 5.0916\n",
            "Epoch 7/30\n",
            "532653/532653 [==============================] - 6s 11us/step - loss: 5.5029 - val_loss: 5.0341\n",
            "Epoch 8/30\n",
            "532653/532653 [==============================] - 6s 11us/step - loss: 5.3666 - val_loss: 4.8054\n",
            "Epoch 9/30\n",
            "532653/532653 [==============================] - 6s 11us/step - loss: 5.2114 - val_loss: 4.7768\n",
            "Epoch 10/30\n",
            "532653/532653 [==============================] - 6s 11us/step - loss: 5.1530 - val_loss: 4.8479\n",
            "Epoch 11/30\n",
            "532653/532653 [==============================] - 6s 11us/step - loss: 5.0659 - val_loss: 4.6306\n",
            "Epoch 12/30\n",
            "532653/532653 [==============================] - 6s 11us/step - loss: 4.9624 - val_loss: 4.7568\n",
            "Epoch 13/30\n",
            "532653/532653 [==============================] - 6s 11us/step - loss: 4.8825 - val_loss: 4.7094\n",
            "Epoch 14/30\n",
            "532653/532653 [==============================] - 6s 11us/step - loss: 4.8312 - val_loss: 4.8393\n",
            "Epoch 15/30\n",
            "532653/532653 [==============================] - 6s 11us/step - loss: 4.7657 - val_loss: 4.7432\n",
            "Epoch 16/30\n",
            "532653/532653 [==============================] - 6s 11us/step - loss: 4.7140 - val_loss: 4.7738\n",
            "Epoch 17/30\n",
            "532653/532653 [==============================] - 6s 11us/step - loss: 4.7154 - val_loss: 4.7498\n",
            "Epoch 18/30\n",
            "532653/532653 [==============================] - 6s 11us/step - loss: 4.6557 - val_loss: 4.7761\n",
            "Epoch 19/30\n",
            "532653/532653 [==============================] - 6s 11us/step - loss: 4.6314 - val_loss: 4.7061\n",
            "Epoch 20/30\n",
            "532653/532653 [==============================] - 6s 11us/step - loss: 4.6245 - val_loss: 4.7983\n",
            "Epoch 21/30\n",
            "532653/532653 [==============================] - 6s 11us/step - loss: 4.6033 - val_loss: 4.8121\n",
            "Epoch 22/30\n",
            "532653/532653 [==============================] - 6s 11us/step - loss: 4.6130 - val_loss: 4.7273\n",
            "Epoch 23/30\n",
            "532653/532653 [==============================] - 6s 11us/step - loss: 4.5921 - val_loss: 4.7986\n",
            "Epoch 24/30\n",
            "532653/532653 [==============================] - 6s 11us/step - loss: 4.5342 - val_loss: 4.5917\n",
            "Epoch 25/30\n",
            "532653/532653 [==============================] - 6s 11us/step - loss: 4.5422 - val_loss: 4.8298\n",
            "Epoch 26/30\n",
            "532653/532653 [==============================] - 6s 11us/step - loss: 4.5478 - val_loss: 4.6610\n",
            "Epoch 27/30\n",
            "532653/532653 [==============================] - 6s 11us/step - loss: 4.5365 - val_loss: 4.8526\n",
            "Epoch 28/30\n",
            "532653/532653 [==============================] - 6s 11us/step - loss: 4.5285 - val_loss: 4.7881\n",
            "Epoch 29/30\n",
            "532653/532653 [==============================] - 6s 11us/step - loss: 4.5198 - val_loss: 4.7338\n",
            "Epoch 30/30\n",
            "532653/532653 [==============================] - 6s 11us/step - loss: 4.5209 - val_loss: 4.8997\n"
          ],
          "name": "stdout"
        }
      ]
    },
    {
      "cell_type": "code",
      "metadata": {
        "id": "eyu2mGkyMn-W",
        "colab_type": "code",
        "colab": {
          "base_uri": "https://localhost:8080/",
          "height": 52
        },
        "outputId": "f1de76b6-a8de-43cc-bf39-dee8f5dc1576"
      },
      "source": [
        "dl_prediction_train_extra_feature = nn_model_extra_feature.predict([X_train['shop_id'], X_train['item_id'], X_train['month'], X_train['year']])\n",
        "dl_rmse_train_extra_feature = sqrt(mean_squared_error(Y_train, dl_prediction_train_extra_feature))\n",
        "print(\"train prediction extra feature:\", dl_rmse_train_extra_feature)\n",
        "\n",
        "dl_prediction_val_extra_feature = nn_model_extra_feature.predict([X_val['shop_id'], X_val['item_id'], X_val['month'], X_val['year']])\n",
        "dl_rmse_val_extra_feature = sqrt(mean_squared_error(Y_val, dl_prediction_val_extra_feature))\n",
        "print(\"validation prediction extra feature:\", dl_rmse_val)\n",
        "\n",
        "\n",
        "dl_prediction_test_extra_feature = nn_model_extra_feature.predict([test_data_fix['shop_id'], test_data_fix['item_id'], test_data_fix['month'], test_data_fix['year']])\n",
        "# dl_rmse_val = sqrt(mean_squared_error(Y_val, dl_prediction_test))\n",
        "# print(dl_rmse_val)\n",
        "# test_data_fix.shape"
      ],
      "execution_count": null,
      "outputs": [
        {
          "output_type": "stream",
          "text": [
            "train prediction extra feature: 2.1432303668424124\n",
            "validation prediction extra feature: 2.2236633493669524\n"
          ],
          "name": "stdout"
        }
      ]
    },
    {
      "cell_type": "code",
      "metadata": {
        "id": "LKV7Uy3ZYDW7",
        "colab_type": "code",
        "colab": {
          "base_uri": "https://localhost:8080/",
          "height": 294
        },
        "outputId": "8d304efd-4bd5-4227-e14b-8ad4ef31b21c"
      },
      "source": [
        "plot_history(history_extra_feature)"
      ],
      "execution_count": null,
      "outputs": [
        {
          "output_type": "display_data",
          "data": {
            "image/png": "[encoded data removed]",
            "text/plain": [
              "<Figure size 432x288 with 1 Axes>"
            ]
          },
          "metadata": {
            "tags": [],
            "needs_background": "light"
          }
        }
      ]
    },
    {
      "cell_type": "code",
      "metadata": {
        "id": "z6HAVZtNIzDt",
        "colab_type": "code",
        "colab": {}
      },
      "source": [
        "dl_prediction_test_to_file_extra = pd.DataFrame(dl_prediction_test_extra_feature, columns=['item_cnt_month'])\n",
        "dl_prediction_test_to_file_extra.to_csv(dataset_path + '/submission4f.csv',index_label='ID')"
      ],
      "execution_count": null,
      "outputs": []
    },
    {
      "cell_type": "code",
      "metadata": {
        "id": "JBsoY_wQKZcx",
        "colab_type": "code",
        "colab": {
          "base_uri": "https://localhost:8080/",
          "height": 34
        },
        "outputId": "03131403-1f67-4ad3-d243-56b591bb4279"
      },
      "source": [
        "print(\"Submission 3 score: 1.80460\")"
      ],
      "execution_count": null,
      "outputs": [
        {
          "output_type": "stream",
          "text": [
            "Submission 3 score: 1.80460\n"
          ],
          "name": "stdout"
        }
      ]
    },
    {
      "cell_type": "code",
      "metadata": {
        "id": "Adpff9vXb-M_",
        "colab_type": "code",
        "colab": {
          "base_uri": "https://localhost:8080/",
          "height": 105
        },
        "outputId": "ad03378c-5682-480b-8f89-17021cfc7147"
      },
      "source": [
        "# Training comparison:\n",
        "print(\"train 3 features score:\", dl_rmse_train)\n",
        "print(\"train 4 features score:\", dl_rmse_train_extra_feature)\n",
        "\n",
        "# Validation comparison:\n",
        "print(\"\\nvalidation 3 features score:\", dl_rmse_val)\n",
        "print(\"validation 4 features score:\", dl_rmse_val_extra_feature)"
      ],
      "execution_count": null,
      "outputs": [
        {
          "output_type": "stream",
          "text": [
            "train 3 features score: 2.1691525253310333\n",
            "train 4 features score: 2.1432303668424124\n",
            "\n",
            "validation 3 features score: 2.2236633493669524\n",
            "validation 4 features score: 2.200417320654311\n"
          ],
          "name": "stdout"
        }
      ]
    },
    {
      "cell_type": "markdown",
      "metadata": {
        "id": "2V2dL1P-QCXF",
        "colab_type": "text"
      },
      "source": [
        "###3.f"
      ]
    },
    {
      "cell_type": "markdown",
      "metadata": {
        "id": "iUwiNWH2Xsnc",
        "colab_type": "text"
      },
      "source": [
        "**After the first fit we saw**:\n",
        "1. Predictable results for training set and validation.\n",
        "2. The training is done by embedding 3 features.\n",
        "3. The ratio between training results and validation results was good, meaning we are not in overfitting."
      ]
    },
    {
      "cell_type": "markdown",
      "metadata": {
        "id": "ZlgvLy3rfHvX",
        "colab_type": "text"
      },
      "source": [
        "**After the second fit we saw**:\n",
        "1. Prediction results improved in both training set and validation set.\n",
        "2. The training is done by embedding 4 features.\n",
        "3. The ratio between training results and validation results was good, meaning we are not in overfitting.\n",
        "4. We assume that as we add more features the prediction results will improve"
      ]
    },
    {
      "cell_type": "markdown",
      "metadata": {
        "id": "ityI6UUZQHHn",
        "colab_type": "text"
      },
      "source": [
        "###3.g"
      ]
    },
    {
      "cell_type": "markdown",
      "metadata": {
        "id": "7GMHtjTLgKp8",
        "colab_type": "text"
      },
      "source": [
        "Next, we will perform a feature extraction process from the model we trained in the previous step and insert it as an input to the Classic Machine Learning model."
      ]
    },
    {
      "cell_type": "code",
      "metadata": {
        "id": "yfituz-FgM93",
        "colab_type": "code",
        "colab": {
          "base_uri": "https://localhost:8080/",
          "height": 34
        },
        "outputId": "d8cc63c1-8906-47df-a3c7-7d5e57a2cf18"
      },
      "source": [
        "# Extracting the last layer of the first model we trained:\n",
        "nn_model.layers.pop()\n",
        "# Extracting the last layer of the second model we trained:\n",
        "nn_model_extra_feature.layers.pop()"
      ],
      "execution_count": null,
      "outputs": [
        {
          "output_type": "execute_result",
          "data": {
            "text/plain": [
              "<keras.layers.core.Dense at 0x7fc8709ba0f0>"
            ]
          },
          "metadata": {
            "tags": []
          },
          "execution_count": 281
        }
      ]
    },
    {
      "cell_type": "code",
      "metadata": {
        "id": "euEXeM6yoa1y",
        "colab_type": "code",
        "colab": {}
      },
      "source": [
        "# We will use Linear Regression as our Machine learning algorithm.\n",
        "linear_regression_fe = LinearRegression()\n",
        "linear_regression_fe_extra = LinearRegression()"
      ],
      "execution_count": null,
      "outputs": []
    },
    {
      "cell_type": "code",
      "metadata": {
        "id": "jb4sfmWRpIIn",
        "colab_type": "code",
        "colab": {
          "base_uri": "https://localhost:8080/",
          "height": 34
        },
        "outputId": "534ec30a-eed6-481a-c412-040ddd991c48"
      },
      "source": [
        "# First we will fit our model on the first nural network we built with 3 features\n",
        "linear_regression_fe.fit(nn_model.predict([X_train['shop_id'], X_train['item_id'], X_train['month']]), Y_train['item_cnt_month'])"
      ],
      "execution_count": null,
      "outputs": [
        {
          "output_type": "execute_result",
          "data": {
            "text/plain": [
              "LinearRegression(copy_X=True, fit_intercept=True, n_jobs=None, normalize=False)"
            ]
          },
          "metadata": {
            "tags": []
          },
          "execution_count": 286
        }
      ]
    },
    {
      "cell_type": "code",
      "metadata": {
        "id": "lnojFMoHq6Zu",
        "colab_type": "code",
        "colab": {
          "base_uri": "https://localhost:8080/",
          "height": 34
        },
        "outputId": "c33966d5-6edb-41c0-b6b3-8dc7f84ec0d4"
      },
      "source": [
        "# Now, we will see if the validation score improved\n",
        "pred_ml_fe = linear_regression_fe.predict(nn_model.predict([X_val['shop_id'], X_val['item_id'], X_val['month']]))\n",
        "ml_lr = sqrt(mean_squared_error(Y_val['item_cnt_month'], pred_ml_fe))\n",
        "print(\"pred_ml_fe\", ml_lr)"
      ],
      "execution_count": null,
      "outputs": [
        {
          "output_type": "stream",
          "text": [
            "pred_ml_fe 2.0254009687438566\n"
          ],
          "name": "stdout"
        }
      ]
    },
    {
      "cell_type": "code",
      "metadata": {
        "id": "npS2bwG6vXgG",
        "colab_type": "code",
        "colab": {}
      },
      "source": [
        "# Test set score for 3 features\n",
        "ml_prediction_fe_test = linear_regression_fe.predict(nn_model.predict([test_data_fix['shop_id'], test_data_fix['item_id'], test_data_fix['month']]))\n",
        "dl_prediction_test_to_file_fe = pd.DataFrame(ml_prediction_fe_test, columns=['item_cnt_month'])\n",
        "dl_prediction_test_to_file_fe.to_csv(dataset_path + '/submissionfe.csv',index_label='ID')"
      ],
      "execution_count": null,
      "outputs": []
    },
    {
      "cell_type": "code",
      "metadata": {
        "id": "MlFaQyOPOtkJ",
        "colab_type": "code",
        "colab": {
          "base_uri": "https://localhost:8080/",
          "height": 34
        },
        "outputId": "d834741a-03e5-4ed5-c4d2-d780c85c2095"
      },
      "source": [
        "print(\"Submission 4 score: 2.21457\")"
      ],
      "execution_count": null,
      "outputs": [
        {
          "output_type": "stream",
          "text": [
            "Submission 4 score: 2.21457\n"
          ],
          "name": "stdout"
        }
      ]
    },
    {
      "cell_type": "code",
      "metadata": {
        "id": "LlneKuYhp8_R",
        "colab_type": "code",
        "colab": {
          "base_uri": "https://localhost:8080/",
          "height": 34
        },
        "outputId": "830f7aca-2e1f-4688-d313-62bf34fcc110"
      },
      "source": [
        "# Next, we will fit our model on the second nural network we built with 4 features\n",
        "linear_regression_fe_extra.fit(nn_model_extra_feature.predict([X_train['shop_id'], X_train['item_id'], X_train['month'], X_train['year']]), Y_train['item_cnt_month'])"
      ],
      "execution_count": null,
      "outputs": [
        {
          "output_type": "execute_result",
          "data": {
            "text/plain": [
              "LinearRegression(copy_X=True, fit_intercept=True, n_jobs=None, normalize=False)"
            ]
          },
          "metadata": {
            "tags": []
          },
          "execution_count": 290
        }
      ]
    },
    {
      "cell_type": "code",
      "metadata": {
        "id": "ERkpn9H6qPca",
        "colab_type": "code",
        "colab": {
          "base_uri": "https://localhost:8080/",
          "height": 34
        },
        "outputId": "d89b6f12-3df3-4af4-f938-e9ad92af4889"
      },
      "source": [
        "# Now, we will see if the validation score improved\n",
        "pred_ml_fe = linear_regression_fe_extra.predict(nn_model_extra_feature.predict([X_val['shop_id'], X_val['item_id'], X_val['month'], X_val['year']]))\n",
        "ml_lr_extra = sqrt(mean_squared_error(Y_val['item_cnt_month'], pred_ml_fe))\n",
        "print(\"pred_ml_fe_extra\", ml_lr_extra)"
      ],
      "execution_count": null,
      "outputs": [
        {
          "output_type": "stream",
          "text": [
            "pred_ml_fe_extra 1.9917260018330594\n"
          ],
          "name": "stdout"
        }
      ]
    },
    {
      "cell_type": "code",
      "metadata": {
        "id": "xmK9U-pqvq86",
        "colab_type": "code",
        "colab": {}
      },
      "source": [
        "# Test set score for 4 features\n",
        "ml_prediction_fe_extra_test = linear_regression_fe_extra.predict(nn_model_extra_feature.predict([test_data_fix['shop_id'], test_data_fix['item_id'], test_data_fix['month'], test_data_fix['year']]))"
      ],
      "execution_count": null,
      "outputs": []
    },
    {
      "cell_type": "code",
      "metadata": {
        "id": "O47CsAl1tn4W",
        "colab_type": "code",
        "colab": {}
      },
      "source": [
        "ml_prediction_fe_extra_test = linear_regression_fe.predict(nn_model.predict([test_data_fix['shop_id'], test_data_fix['item_id'], test_data_fix['month']]))\n",
        "dl_prediction_test_to_file_fe_extra = pd.DataFrame(ml_prediction_fe_extra_test, columns=['item_cnt_month'])\n",
        "dl_prediction_test_to_file_fe_extra.to_csv(dataset_path + '/submissionfextra.csv',index_label='ID')"
      ],
      "execution_count": null,
      "outputs": []
    },
    {
      "cell_type": "code",
      "metadata": {
        "id": "iJkh4BpDPQTF",
        "colab_type": "code",
        "colab": {
          "base_uri": "https://localhost:8080/",
          "height": 34
        },
        "outputId": "9b468360-d761-4e88-afcd-4e8c02f4ceba"
      },
      "source": [
        "print(\"Submission 5 score: 2.21457\")"
      ],
      "execution_count": null,
      "outputs": [
        {
          "output_type": "stream",
          "text": [
            "Submission 5 score: 2.21457\n"
          ],
          "name": "stdout"
        }
      ]
    },
    {
      "cell_type": "markdown",
      "metadata": {
        "id": "C54VcrbNQKB4",
        "colab_type": "text"
      },
      "source": [
        "###4 - Report\n",
        "The task we investigated is predicting the number of units that will be sold in stores in the next month.\n",
        "Like every ML/DL task, the first thing we would like to do is to preprocess our data if he is not already ready to use.\n",
        "These steps were critical to our model in terms of both the model's complexity and its correctness.\n",
        "The processes we performed are:\n",
        "\n",
        "1. discard all rows that has value (-1) in '*item_cnt_day*' column.\n",
        "2. clear all rows in the training dataset that contains shops and items that not in test-set \n",
        "3. Fixing the date representation, so later on we could use him as features.\n",
        "4. Fixing the test-set by adding the month we want to predict.\n",
        "5. Grouping the records so that the units counter is by months and not by days. \n",
        "6. Discard values that are far less common and if so can significantly impact the results of the model.\n",
        "7. Dividing the training set to 80% training and 20% validation.\n",
        "\n",
        "The next thing we were asked to do is do the training and prediction on the data set and test using a classic ML algorithm. The results obtained were not bad, but there seemed to be room for improvement.\n",
        "\n",
        "At this point, we started to build an RNN model when we want to extract features from the data. We did this with Embedding.\n",
        "First we only used 3 features and we built a neuron network for the data in the training set. Already at this stage, when we only run the model with 3 features we got a better result than the previous step (ML).\n",
        "\n",
        "Now we have decided to add another feature that we think will affect the result and this is the year feature. Once again it was noticeable that there was a positive change in the prediction results.\n",
        "\n",
        "The final step in the task was to perform a feature-extractor process from the models we trained in the previous step.\n",
        "To complete the task:\n",
        "- We pulled the last layer from both models.\n",
        "- We created a new ML model. (We chose to use logistic regression).\n",
        "- We performed prediction with the original models (without the last layer) for the test-set.\n",
        "- The output from the previous step was entered as an input to the ML model.\n",
        "\n",
        "Result:\n",
        "Surprisingly, the results we received were less accurate than the results we described in the previous steps.\n",
        "\n",
        "The reasons that caused the surprising results in our opinion are:\n",
        "1. Wrong choice of ML algorithm for the task that you are trying to perform.\n",
        "2. The Feature Extractor process was performed incorrectly.\n",
        "\n",
        "To summarize, The key points in our opinion are:\n",
        "\n",
        "1. A thorough preprocess that not ignores important details and yet knows how to deal with less common or unimportant details.\n",
        "2. Choosing features that will improve prediction based on the research done on data in the early stages. For example, we could see from the tables we attached above that in some months sales dropped and others went up. Therefore, choosing a month as a feature made the model prediction more accurate.\n"
      ]
    }
  ]
}